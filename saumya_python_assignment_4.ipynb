{
 "cells": [
  {
   "cell_type": "code",
   "execution_count": 18,
   "id": "e3389055",
   "metadata": {},
   "outputs": [
    {
     "data": {
      "text/plain": [
       "20.97617696340303"
      ]
     },
     "execution_count": 18,
     "metadata": {},
     "output_type": "execute_result"
    }
   ],
   "source": [
    "class Triangle:\n",
    "    def init(a,b,c):\n",
    "        Triangle.a=a\n",
    "        Triangle.b=b\n",
    "        Triangle.c=c\n",
    "    def area(x,y,z):\n",
    "        s=(x+y+z)/2\n",
    "        areaoftr=(s*(s-x)*(s-y)*(s-z)) ** 0.5\n",
    "        return areaoftr\n",
    "Triangle.area(6,7,9)"
   ]
  },
  {
   "cell_type": "code",
   "execution_count": 54,
   "id": "1ba1c376",
   "metadata": {},
   "outputs": [],
   "source": [
    "#question 1.2\n",
    "def filter_long_words():\n",
    "    lst=[]\n",
    "    num=int(input('enter number of elements of list: '))\n",
    "    for i in range(num):\n",
    "        l=input('enter list elements: ')\n",
    "        lst.append(l)\n",
    "    n=int(input('enter an integer to compare: '))\n",
    "    a=len(lst)\n",
    "    c=0\n",
    "    for i in range(a):\n",
    "        for j in range(i):\n",
    "            c=len(lst[j])\n",
    "        if c > n:\n",
    "            print('These are list elements longer than ',n ,lst[j])"
   ]
  },
  {
   "cell_type": "code",
   "execution_count": 53,
   "id": "3b6acc6a",
   "metadata": {},
   "outputs": [
    {
     "name": "stdout",
     "output_type": "stream",
     "text": [
      "enter number of elements of list: 3\n",
      "enter list elements: saumya\n",
      "enter list elements: tripathi\n",
      "enter list elements: s\n",
      "enter an integer to compare: 6\n",
      "These are list elements longer than  6 tripathi\n"
     ]
    }
   ],
   "source": [
    "filter_long_words()"
   ]
  },
  {
   "cell_type": "code",
   "execution_count": 1,
   "id": "5151ff28",
   "metadata": {},
   "outputs": [],
   "source": [
    "#question 2.1\n",
    "def listlength(l):\n",
    "    a=len(l)\n",
    "    lst=[]\n",
    "    for i in range(a):\n",
    "        c=len(l[i])\n",
    "        lst.append(c)\n",
    "    print(lst)"
   ]
  },
  {
   "cell_type": "code",
   "execution_count": 2,
   "id": "2c328697",
   "metadata": {},
   "outputs": [
    {
     "name": "stdout",
     "output_type": "stream",
     "text": [
      "[6]\n"
     ]
    }
   ],
   "source": [
    "listlength(['saumya'])"
   ]
  },
  {
   "cell_type": "code",
   "execution_count": 65,
   "id": "8615fee6",
   "metadata": {},
   "outputs": [],
   "source": [
    "#question 2.2\n",
    "def vowel():\n",
    "    s=input('enter a character: ')\n",
    "    if s =='a' or s=='e' or s=='i' or s=='o' or s=='u':\n",
    "        print(s,'is a vowel')\n",
    "    else:\n",
    "        print(s,'is a consonant')"
   ]
  },
  {
   "cell_type": "code",
   "execution_count": 66,
   "id": "b4190252",
   "metadata": {},
   "outputs": [
    {
     "name": "stdout",
     "output_type": "stream",
     "text": [
      "enter a character: z\n",
      "z is a consonant\n"
     ]
    }
   ],
   "source": [
    "vowel()"
   ]
  },
  {
   "cell_type": "code",
   "execution_count": null,
   "id": "760b86a3",
   "metadata": {},
   "outputs": [],
   "source": []
  },
  {
   "cell_type": "code",
   "execution_count": null,
   "id": "dd26903e",
   "metadata": {},
   "outputs": [],
   "source": []
  }
 ],
 "metadata": {
  "kernelspec": {
   "display_name": "Python 3",
   "language": "python",
   "name": "python3"
  },
  "language_info": {
   "codemirror_mode": {
    "name": "ipython",
    "version": 3
   },
   "file_extension": ".py",
   "mimetype": "text/x-python",
   "name": "python",
   "nbconvert_exporter": "python",
   "pygments_lexer": "ipython3",
   "version": "3.8.8"
  }
 },
 "nbformat": 4,
 "nbformat_minor": 5
}
