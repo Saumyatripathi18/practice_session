{
 "cells": [
  {
   "cell_type": "code",
   "execution_count": 1,
   "id": "bae5df6c",
   "metadata": {},
   "outputs": [],
   "source": [
    "t=(1,2,2,5,6,7,'sudh','ineuron')"
   ]
  },
  {
   "cell_type": "code",
   "execution_count": 2,
   "id": "9458d413",
   "metadata": {},
   "outputs": [
    {
     "data": {
      "text/plain": [
       "1"
      ]
     },
     "execution_count": 2,
     "metadata": {},
     "output_type": "execute_result"
    }
   ],
   "source": [
    "t[0]"
   ]
  },
  {
   "cell_type": "code",
   "execution_count": 3,
   "id": "572cfcdb",
   "metadata": {},
   "outputs": [
    {
     "data": {
      "text/plain": [
       "(1, 2, 2, 5)"
      ]
     },
     "execution_count": 3,
     "metadata": {},
     "output_type": "execute_result"
    }
   ],
   "source": [
    "t[0:4]"
   ]
  },
  {
   "cell_type": "code",
   "execution_count": 4,
   "id": "dee85899",
   "metadata": {},
   "outputs": [
    {
     "data": {
      "text/plain": [
       "('ineuron', 'sudh', 7, 6, 5, 2, 2, 1)"
      ]
     },
     "execution_count": 4,
     "metadata": {},
     "output_type": "execute_result"
    }
   ],
   "source": [
    "t[::-1]"
   ]
  },
  {
   "cell_type": "code",
   "execution_count": 5,
   "id": "b1f2f69c",
   "metadata": {},
   "outputs": [
    {
     "data": {
      "text/plain": [
       "2"
      ]
     },
     "execution_count": 5,
     "metadata": {},
     "output_type": "execute_result"
    }
   ],
   "source": [
    "t.count(2)"
   ]
  },
  {
   "cell_type": "code",
   "execution_count": 8,
   "id": "a822dd55",
   "metadata": {},
   "outputs": [
    {
     "data": {
      "text/plain": [
       "1"
      ]
     },
     "execution_count": 8,
     "metadata": {},
     "output_type": "execute_result"
    }
   ],
   "source": [
    "t.count('sudh')"
   ]
  },
  {
   "cell_type": "code",
   "execution_count": 9,
   "id": "54577a68",
   "metadata": {},
   "outputs": [
    {
     "data": {
      "text/plain": [
       "0"
      ]
     },
     "execution_count": 9,
     "metadata": {},
     "output_type": "execute_result"
    }
   ],
   "source": [
    "t.count('Sudh') #case sensitive"
   ]
  },
  {
   "cell_type": "code",
   "execution_count": 10,
   "id": "6b398cd0",
   "metadata": {},
   "outputs": [
    {
     "data": {
      "text/plain": [
       "0"
      ]
     },
     "execution_count": 10,
     "metadata": {},
     "output_type": "execute_result"
    }
   ],
   "source": [
    "t.index(1)"
   ]
  },
  {
   "cell_type": "code",
   "execution_count": 11,
   "id": "a4c60105",
   "metadata": {},
   "outputs": [
    {
     "data": {
      "text/plain": [
       "1"
      ]
     },
     "execution_count": 11,
     "metadata": {},
     "output_type": "execute_result"
    }
   ],
   "source": [
    "t.index(2)"
   ]
  },
  {
   "cell_type": "code",
   "execution_count": 12,
   "id": "281770f0",
   "metadata": {},
   "outputs": [
    {
     "data": {
      "text/plain": [
       "[1, 2, 2, 5, 6, 7, 'sudh', 'ineuron']"
      ]
     },
     "execution_count": 12,
     "metadata": {},
     "output_type": "execute_result"
    }
   ],
   "source": [
    "list(t)"
   ]
  },
  {
   "cell_type": "code",
   "execution_count": 13,
   "id": "0b067fd0",
   "metadata": {},
   "outputs": [
    {
     "data": {
      "text/plain": [
       "(1, 2, 2, 5, 6, 7, 'sudh', 'ineuron')"
      ]
     },
     "execution_count": 13,
     "metadata": {},
     "output_type": "execute_result"
    }
   ],
   "source": [
    "t"
   ]
  },
  {
   "cell_type": "code",
   "execution_count": 14,
   "id": "29279042",
   "metadata": {},
   "outputs": [],
   "source": [
    "del(t)"
   ]
  },
  {
   "cell_type": "code",
   "execution_count": 15,
   "id": "5c57f536",
   "metadata": {},
   "outputs": [
    {
     "ename": "NameError",
     "evalue": "name 't' is not defined",
     "output_type": "error",
     "traceback": [
      "\u001b[1;31m---------------------------------------------------------------------------\u001b[0m",
      "\u001b[1;31mNameError\u001b[0m                                 Traceback (most recent call last)",
      "\u001b[1;32m<ipython-input-15-34fc7a11cb38>\u001b[0m in \u001b[0;36m<module>\u001b[1;34m\u001b[0m\n\u001b[1;32m----> 1\u001b[1;33m \u001b[0mt\u001b[0m\u001b[1;33m\u001b[0m\u001b[1;33m\u001b[0m\u001b[0m\n\u001b[0m",
      "\u001b[1;31mNameError\u001b[0m: name 't' is not defined"
     ]
    }
   ],
   "source": [
    "t"
   ]
  },
  {
   "cell_type": "code",
   "execution_count": 16,
   "id": "70b72897",
   "metadata": {},
   "outputs": [],
   "source": [
    "s=set()"
   ]
  },
  {
   "cell_type": "code",
   "execution_count": 17,
   "id": "e79187f1",
   "metadata": {},
   "outputs": [],
   "source": [
    "s.add(3)"
   ]
  },
  {
   "cell_type": "code",
   "execution_count": 18,
   "id": "39905a33",
   "metadata": {},
   "outputs": [],
   "source": [
    "s.add(5)"
   ]
  },
  {
   "cell_type": "code",
   "execution_count": 19,
   "id": "2dd32c16",
   "metadata": {},
   "outputs": [],
   "source": [
    "s.add('sudh')"
   ]
  },
  {
   "cell_type": "code",
   "execution_count": 20,
   "id": "1601d413",
   "metadata": {},
   "outputs": [],
   "source": [
    "s.add(3)"
   ]
  },
  {
   "cell_type": "code",
   "execution_count": 21,
   "id": "ffa26e69",
   "metadata": {},
   "outputs": [
    {
     "data": {
      "text/plain": [
       "{3, 5, 'sudh'}"
      ]
     },
     "execution_count": 21,
     "metadata": {},
     "output_type": "execute_result"
    }
   ],
   "source": [
    "s"
   ]
  },
  {
   "cell_type": "code",
   "execution_count": 22,
   "id": "4c889f97",
   "metadata": {},
   "outputs": [],
   "source": [
    "s={34,67,34}"
   ]
  },
  {
   "cell_type": "code",
   "execution_count": 23,
   "id": "9b127902",
   "metadata": {},
   "outputs": [
    {
     "data": {
      "text/plain": [
       "{34, 67}"
      ]
     },
     "execution_count": 23,
     "metadata": {},
     "output_type": "execute_result"
    }
   ],
   "source": [
    "s"
   ]
  },
  {
   "cell_type": "code",
   "execution_count": 26,
   "id": "e032bef3",
   "metadata": {},
   "outputs": [],
   "source": [
    "s1={3,4,5,6,7,8,8,9,9,9,'sudh','Sudh'}"
   ]
  },
  {
   "cell_type": "code",
   "execution_count": 27,
   "id": "3a241866",
   "metadata": {},
   "outputs": [
    {
     "data": {
      "text/plain": [
       "{3, 4, 5, 6, 7, 8, 9, 'Sudh', 'sudh'}"
      ]
     },
     "execution_count": 27,
     "metadata": {},
     "output_type": "execute_result"
    }
   ],
   "source": [
    "s1"
   ]
  },
  {
   "cell_type": "code",
   "execution_count": 28,
   "id": "611b430b",
   "metadata": {},
   "outputs": [],
   "source": [
    "w={6,7,3,4,9,2}"
   ]
  },
  {
   "cell_type": "code",
   "execution_count": 29,
   "id": "630329f8",
   "metadata": {},
   "outputs": [
    {
     "data": {
      "text/plain": [
       "{2, 3, 4, 6, 7, 9}"
      ]
     },
     "execution_count": 29,
     "metadata": {},
     "output_type": "execute_result"
    }
   ],
   "source": [
    "w"
   ]
  },
  {
   "cell_type": "code",
   "execution_count": 30,
   "id": "cd0aa728",
   "metadata": {},
   "outputs": [],
   "source": [
    "l=[1,2,3,4,4,4,4,5,6,6,6,6,7,7,8,89,9]"
   ]
  },
  {
   "cell_type": "code",
   "execution_count": 31,
   "id": "411dc210",
   "metadata": {},
   "outputs": [
    {
     "data": {
      "text/plain": [
       "{1, 2, 3, 4, 5, 6, 7, 8, 9, 89}"
      ]
     },
     "execution_count": 31,
     "metadata": {},
     "output_type": "execute_result"
    }
   ],
   "source": [
    "set(l)"
   ]
  },
  {
   "cell_type": "code",
   "execution_count": 33,
   "id": "4ad4f260",
   "metadata": {},
   "outputs": [],
   "source": [
    "l=[1,2,3,4,4,4,4,5,6,6,6,6,7,7,8,89,9,[1,2,3,4]]"
   ]
  },
  {
   "cell_type": "code",
   "execution_count": 34,
   "id": "feb76871",
   "metadata": {},
   "outputs": [
    {
     "ename": "TypeError",
     "evalue": "unhashable type: 'list'",
     "output_type": "error",
     "traceback": [
      "\u001b[1;31m---------------------------------------------------------------------------\u001b[0m",
      "\u001b[1;31mTypeError\u001b[0m                                 Traceback (most recent call last)",
      "\u001b[1;32m<ipython-input-34-997047561570>\u001b[0m in \u001b[0;36m<module>\u001b[1;34m\u001b[0m\n\u001b[1;32m----> 1\u001b[1;33m \u001b[0mset\u001b[0m\u001b[1;33m(\u001b[0m\u001b[0ml\u001b[0m\u001b[1;33m)\u001b[0m\u001b[1;33m\u001b[0m\u001b[1;33m\u001b[0m\u001b[0m\n\u001b[0m",
      "\u001b[1;31mTypeError\u001b[0m: unhashable type: 'list'"
     ]
    }
   ],
   "source": [
    "set(l)"
   ]
  },
  {
   "cell_type": "code",
   "execution_count": 36,
   "id": "1e0a477a",
   "metadata": {},
   "outputs": [
    {
     "name": "stdout",
     "output_type": "stream",
     "text": [
      "{1, 2, 3, 4, 5, 6, 7, 8, 9, 89}\n"
     ]
    }
   ],
   "source": [
    "s1=set()\n",
    "for i in l:\n",
    "    if type(i) != list:\n",
    "        s1.add(i)\n",
    "print(s1)"
   ]
  },
  {
   "cell_type": "code",
   "execution_count": 37,
   "id": "73b3e6fe",
   "metadata": {},
   "outputs": [],
   "source": [
    "s1.remove(3)"
   ]
  },
  {
   "cell_type": "code",
   "execution_count": 38,
   "id": "1589f605",
   "metadata": {},
   "outputs": [
    {
     "data": {
      "text/plain": [
       "{1, 2, 4, 5, 6, 7, 8, 9, 89}"
      ]
     },
     "execution_count": 38,
     "metadata": {},
     "output_type": "execute_result"
    }
   ],
   "source": [
    "s1"
   ]
  },
  {
   "cell_type": "code",
   "execution_count": 39,
   "id": "757bf6cb",
   "metadata": {},
   "outputs": [
    {
     "ename": "KeyError",
     "evalue": "345",
     "output_type": "error",
     "traceback": [
      "\u001b[1;31m---------------------------------------------------------------------------\u001b[0m",
      "\u001b[1;31mKeyError\u001b[0m                                  Traceback (most recent call last)",
      "\u001b[1;32m<ipython-input-39-600d66b4833e>\u001b[0m in \u001b[0;36m<module>\u001b[1;34m\u001b[0m\n\u001b[1;32m----> 1\u001b[1;33m \u001b[0ms1\u001b[0m\u001b[1;33m.\u001b[0m\u001b[0mremove\u001b[0m\u001b[1;33m(\u001b[0m\u001b[1;36m345\u001b[0m\u001b[1;33m)\u001b[0m\u001b[1;33m\u001b[0m\u001b[1;33m\u001b[0m\u001b[0m\n\u001b[0m",
      "\u001b[1;31mKeyError\u001b[0m: 345"
     ]
    }
   ],
   "source": [
    "s1.remove(345)"
   ]
  },
  {
   "cell_type": "code",
   "execution_count": 40,
   "id": "8b281daa",
   "metadata": {},
   "outputs": [],
   "source": [
    "s1.discard(5)"
   ]
  },
  {
   "cell_type": "code",
   "execution_count": 41,
   "id": "8ef91c79",
   "metadata": {},
   "outputs": [
    {
     "data": {
      "text/plain": [
       "{1, 2, 4, 6, 7, 8, 9, 89}"
      ]
     },
     "execution_count": 41,
     "metadata": {},
     "output_type": "execute_result"
    }
   ],
   "source": [
    "s1"
   ]
  },
  {
   "cell_type": "code",
   "execution_count": 43,
   "id": "38f10eec",
   "metadata": {},
   "outputs": [],
   "source": [
    "s1.discard(345)"
   ]
  },
  {
   "cell_type": "code",
   "execution_count": 44,
   "id": "538abb8f",
   "metadata": {},
   "outputs": [],
   "source": [
    "x={'ineuron','machine','learning'}\n",
    "y={'stats','deep learning','computer vision','ineuron'}"
   ]
  },
  {
   "cell_type": "code",
   "execution_count": 45,
   "id": "b2b053ea",
   "metadata": {},
   "outputs": [
    {
     "data": {
      "text/plain": [
       "set"
      ]
     },
     "execution_count": 45,
     "metadata": {},
     "output_type": "execute_result"
    }
   ],
   "source": [
    "type(x)"
   ]
  },
  {
   "cell_type": "code",
   "execution_count": 46,
   "id": "a20cbe84",
   "metadata": {},
   "outputs": [
    {
     "data": {
      "text/plain": [
       "set"
      ]
     },
     "execution_count": 46,
     "metadata": {},
     "output_type": "execute_result"
    }
   ],
   "source": [
    "type(y)"
   ]
  },
  {
   "cell_type": "code",
   "execution_count": 47,
   "id": "eb8e88fa",
   "metadata": {},
   "outputs": [
    {
     "data": {
      "text/plain": [
       "{'learning', 'machine'}"
      ]
     },
     "execution_count": 47,
     "metadata": {},
     "output_type": "execute_result"
    }
   ],
   "source": [
    "x.difference(y) #in x not in y"
   ]
  },
  {
   "cell_type": "code",
   "execution_count": 48,
   "id": "ac062077",
   "metadata": {},
   "outputs": [
    {
     "data": {
      "text/plain": [
       "{'computer vision', 'deep learning', 'stats'}"
      ]
     },
     "execution_count": 48,
     "metadata": {},
     "output_type": "execute_result"
    }
   ],
   "source": [
    "y.difference(x)# in y not in x"
   ]
  },
  {
   "cell_type": "code",
   "execution_count": 50,
   "id": "4855024b",
   "metadata": {},
   "outputs": [],
   "source": [
    "s={3,5,'sudh'}"
   ]
  },
  {
   "cell_type": "code",
   "execution_count": 51,
   "id": "84778d23",
   "metadata": {},
   "outputs": [
    {
     "data": {
      "text/plain": [
       "{3, 5, 'sudh'}"
      ]
     },
     "execution_count": 51,
     "metadata": {},
     "output_type": "execute_result"
    }
   ],
   "source": [
    "s"
   ]
  },
  {
   "cell_type": "code",
   "execution_count": 52,
   "id": "43879f89",
   "metadata": {},
   "outputs": [
    {
     "ename": "TypeError",
     "evalue": "'set' object is not subscriptable",
     "output_type": "error",
     "traceback": [
      "\u001b[1;31m---------------------------------------------------------------------------\u001b[0m",
      "\u001b[1;31mTypeError\u001b[0m                                 Traceback (most recent call last)",
      "\u001b[1;32m<ipython-input-52-c9c96910e542>\u001b[0m in \u001b[0;36m<module>\u001b[1;34m\u001b[0m\n\u001b[1;32m----> 1\u001b[1;33m \u001b[0ms\u001b[0m\u001b[1;33m[\u001b[0m\u001b[1;36m0\u001b[0m\u001b[1;33m]\u001b[0m\u001b[1;33m\u001b[0m\u001b[1;33m\u001b[0m\u001b[0m\n\u001b[0m",
      "\u001b[1;31mTypeError\u001b[0m: 'set' object is not subscriptable"
     ]
    }
   ],
   "source": [
    "s[0]"
   ]
  },
  {
   "cell_type": "code",
   "execution_count": 53,
   "id": "dee6ff73",
   "metadata": {},
   "outputs": [
    {
     "ename": "TypeError",
     "evalue": "'set' object is not subscriptable",
     "output_type": "error",
     "traceback": [
      "\u001b[1;31m---------------------------------------------------------------------------\u001b[0m",
      "\u001b[1;31mTypeError\u001b[0m                                 Traceback (most recent call last)",
      "\u001b[1;32m<ipython-input-53-d1752a6a2c99>\u001b[0m in \u001b[0;36m<module>\u001b[1;34m\u001b[0m\n\u001b[1;32m----> 1\u001b[1;33m \u001b[0ms\u001b[0m\u001b[1;33m[\u001b[0m\u001b[1;36m0\u001b[0m\u001b[1;33m:\u001b[0m\u001b[1;36m2\u001b[0m\u001b[1;33m]\u001b[0m\u001b[1;33m\u001b[0m\u001b[1;33m\u001b[0m\u001b[0m\n\u001b[0m",
      "\u001b[1;31mTypeError\u001b[0m: 'set' object is not subscriptable"
     ]
    }
   ],
   "source": [
    "s[0:2]"
   ]
  },
  {
   "cell_type": "code",
   "execution_count": 54,
   "id": "096a654c",
   "metadata": {},
   "outputs": [
    {
     "name": "stdout",
     "output_type": "stream",
     "text": [
      "3\n",
      "5\n",
      "sudh\n"
     ]
    }
   ],
   "source": [
    "for i in s:\n",
    "    print(i)"
   ]
  },
  {
   "cell_type": "code",
   "execution_count": 55,
   "id": "96824e07",
   "metadata": {},
   "outputs": [
    {
     "data": {
      "text/plain": [
       "[3, 5, 'sudh']"
      ]
     },
     "execution_count": 55,
     "metadata": {},
     "output_type": "execute_result"
    }
   ],
   "source": [
    "list(s)"
   ]
  },
  {
   "cell_type": "code",
   "execution_count": 56,
   "id": "da3af67f",
   "metadata": {},
   "outputs": [
    {
     "data": {
      "text/plain": [
       "(3, 5, 'sudh')"
      ]
     },
     "execution_count": 56,
     "metadata": {},
     "output_type": "execute_result"
    }
   ],
   "source": [
    "tuple(s)"
   ]
  },
  {
   "cell_type": "code",
   "execution_count": 62,
   "id": "66425614",
   "metadata": {},
   "outputs": [],
   "source": [
    "d={'key':'value'}"
   ]
  },
  {
   "cell_type": "code",
   "execution_count": 63,
   "id": "568c2a30",
   "metadata": {},
   "outputs": [
    {
     "data": {
      "text/plain": [
       "dict"
      ]
     },
     "execution_count": 63,
     "metadata": {},
     "output_type": "execute_result"
    }
   ],
   "source": [
    "type(d)"
   ]
  },
  {
   "cell_type": "code",
   "execution_count": 64,
   "id": "09442b95",
   "metadata": {},
   "outputs": [],
   "source": [
    "l=[1,2,3,4,5,6]"
   ]
  },
  {
   "cell_type": "code",
   "execution_count": 65,
   "id": "53846d31",
   "metadata": {},
   "outputs": [
    {
     "data": {
      "text/plain": [
       "1"
      ]
     },
     "execution_count": 65,
     "metadata": {},
     "output_type": "execute_result"
    }
   ],
   "source": [
    "l[0]"
   ]
  },
  {
   "cell_type": "code",
   "execution_count": 68,
   "id": "135eb328",
   "metadata": {},
   "outputs": [],
   "source": [
    "d={4:'sudh',5:'kumar','k1':'xyz','k2':[1,2,3,4,5],6:(4,5,6,7,8)}"
   ]
  },
  {
   "cell_type": "code",
   "execution_count": 77,
   "id": "8bd27eb6",
   "metadata": {},
   "outputs": [],
   "source": [
    "d={4:'sudh',5:'kumar',(1,2,3,4):'sdvf',_:45,4:'xyz'}"
   ]
  },
  {
   "cell_type": "code",
   "execution_count": 81,
   "id": "64878875",
   "metadata": {},
   "outputs": [],
   "source": [
    "_=2"
   ]
  },
  {
   "cell_type": "code",
   "execution_count": 82,
   "id": "5a435631",
   "metadata": {},
   "outputs": [
    {
     "data": {
      "text/plain": [
       "int"
      ]
     },
     "execution_count": 82,
     "metadata": {},
     "output_type": "execute_result"
    }
   ],
   "source": [
    "type(_)"
   ]
  },
  {
   "cell_type": "code",
   "execution_count": 83,
   "id": "da4024ac",
   "metadata": {},
   "outputs": [],
   "source": [
    "d={4:'sudh',5:'kumar',(1,2,3,4):'sdvf',_:45,4:'xyz'}"
   ]
  },
  {
   "cell_type": "code",
   "execution_count": 84,
   "id": "d624f55f",
   "metadata": {},
   "outputs": [
    {
     "data": {
      "text/plain": [
       "{4: 'xyz', 5: 'kumar', (1, 2, 3, 4): 'sdvf', 2: 45}"
      ]
     },
     "execution_count": 84,
     "metadata": {},
     "output_type": "execute_result"
    }
   ],
   "source": [
    "d"
   ]
  },
  {
   "cell_type": "code",
   "execution_count": 86,
   "id": "8baf3ee7",
   "metadata": {},
   "outputs": [],
   "source": [
    "d2={1:'sudh',2:'kumar',3:['ML','DL','oops','exception handling'],4:'sudh'}"
   ]
  },
  {
   "cell_type": "code",
   "execution_count": 87,
   "id": "177c66f2",
   "metadata": {},
   "outputs": [
    {
     "data": {
      "text/plain": [
       "{1: 'sudh',\n",
       " 2: 'kumar',\n",
       " 3: ['ML', 'DL', 'oops', 'exception handling'],\n",
       " 4: 'sudh'}"
      ]
     },
     "execution_count": 87,
     "metadata": {},
     "output_type": "execute_result"
    }
   ],
   "source": [
    "d2"
   ]
  },
  {
   "cell_type": "code",
   "execution_count": 89,
   "id": "b9917aad",
   "metadata": {},
   "outputs": [
    {
     "data": {
      "text/plain": [
       "'sudh'"
      ]
     },
     "execution_count": 89,
     "metadata": {},
     "output_type": "execute_result"
    }
   ],
   "source": [
    "d2[1]"
   ]
  },
  {
   "cell_type": "code",
   "execution_count": 91,
   "id": "a9f22fc8",
   "metadata": {},
   "outputs": [
    {
     "data": {
      "text/plain": [
       "['ML', 'DL', 'oops', 'exception handling']"
      ]
     },
     "execution_count": 91,
     "metadata": {},
     "output_type": "execute_result"
    }
   ],
   "source": [
    "d2[3]"
   ]
  },
  {
   "cell_type": "code",
   "execution_count": 92,
   "id": "5e1ca831",
   "metadata": {},
   "outputs": [
    {
     "data": {
      "text/plain": [
       "{4: 'xyz', 5: 'kumar', (1, 2, 3, 4): 'sdvf', 2: 45}"
      ]
     },
     "execution_count": 92,
     "metadata": {},
     "output_type": "execute_result"
    }
   ],
   "source": [
    "d"
   ]
  },
  {
   "cell_type": "code",
   "execution_count": 93,
   "id": "e7899d8b",
   "metadata": {},
   "outputs": [
    {
     "data": {
      "text/plain": [
       "'sdvf'"
      ]
     },
     "execution_count": 93,
     "metadata": {},
     "output_type": "execute_result"
    }
   ],
   "source": [
    "d[(1,2,3,4)]"
   ]
  },
  {
   "cell_type": "code",
   "execution_count": 94,
   "id": "e3634ac1",
   "metadata": {},
   "outputs": [],
   "source": [
    "d={'k1':'ineuron'}"
   ]
  },
  {
   "cell_type": "code",
   "execution_count": 96,
   "id": "22280e3e",
   "metadata": {},
   "outputs": [
    {
     "data": {
      "text/plain": [
       "'ineuron'"
      ]
     },
     "execution_count": 96,
     "metadata": {},
     "output_type": "execute_result"
    }
   ],
   "source": [
    "d['k1']"
   ]
  },
  {
   "cell_type": "code",
   "execution_count": 97,
   "id": "11d0dd28",
   "metadata": {},
   "outputs": [],
   "source": [
    "d={'k1':'ineuron','k2':'ineuron','k3':{1:'sudh',2:'kumar',3:'xyz'}}"
   ]
  },
  {
   "cell_type": "code",
   "execution_count": 98,
   "id": "4286cc30",
   "metadata": {},
   "outputs": [
    {
     "data": {
      "text/plain": [
       "{'k1': 'ineuron', 'k2': 'ineuron', 'k3': {1: 'sudh', 2: 'kumar', 3: 'xyz'}}"
      ]
     },
     "execution_count": 98,
     "metadata": {},
     "output_type": "execute_result"
    }
   ],
   "source": [
    "d"
   ]
  },
  {
   "cell_type": "code",
   "execution_count": 100,
   "id": "02f86edd",
   "metadata": {},
   "outputs": [
    {
     "data": {
      "text/plain": [
       "'xyz'"
      ]
     },
     "execution_count": 100,
     "metadata": {},
     "output_type": "execute_result"
    }
   ],
   "source": [
    "d['k3'][3]"
   ]
  },
  {
   "cell_type": "code",
   "execution_count": 101,
   "id": "c76ab59d",
   "metadata": {},
   "outputs": [],
   "source": [
    "d['k4']=345"
   ]
  },
  {
   "cell_type": "code",
   "execution_count": 102,
   "id": "26e1d94d",
   "metadata": {},
   "outputs": [
    {
     "data": {
      "text/plain": [
       "{'k1': 'ineuron',\n",
       " 'k2': 'ineuron',\n",
       " 'k3': {1: 'sudh', 2: 'kumar', 3: 'xyz'},\n",
       " 'k4': 345}"
      ]
     },
     "execution_count": 102,
     "metadata": {},
     "output_type": "execute_result"
    }
   ],
   "source": [
    "d"
   ]
  },
  {
   "cell_type": "code",
   "execution_count": 103,
   "id": "b56c0024",
   "metadata": {},
   "outputs": [],
   "source": [
    "d['k1']='xvcvv'"
   ]
  },
  {
   "cell_type": "code",
   "execution_count": 104,
   "id": "a429a7c0",
   "metadata": {},
   "outputs": [
    {
     "data": {
      "text/plain": [
       "{'k1': 'xvcvv',\n",
       " 'k2': 'ineuron',\n",
       " 'k3': {1: 'sudh', 2: 'kumar', 3: 'xyz'},\n",
       " 'k4': 345}"
      ]
     },
     "execution_count": 104,
     "metadata": {},
     "output_type": "execute_result"
    }
   ],
   "source": [
    "d"
   ]
  },
  {
   "cell_type": "code",
   "execution_count": 106,
   "id": "9dc4e8a0",
   "metadata": {},
   "outputs": [
    {
     "name": "stdout",
     "output_type": "stream",
     "text": [
      "xvcvv\n",
      "ineuron\n",
      "{1: 'sudh', 2: 'kumar', 3: 'xyz'}\n",
      "345\n"
     ]
    }
   ],
   "source": [
    "for i in d:\n",
    "    print(d[i])"
   ]
  },
  {
   "cell_type": "code",
   "execution_count": 107,
   "id": "8b475734",
   "metadata": {},
   "outputs": [
    {
     "data": {
      "text/plain": [
       "dict_keys(['k1', 'k2', 'k3', 'k4'])"
      ]
     },
     "execution_count": 107,
     "metadata": {},
     "output_type": "execute_result"
    }
   ],
   "source": [
    "d.keys()"
   ]
  },
  {
   "cell_type": "code",
   "execution_count": 108,
   "id": "7c4a14e6",
   "metadata": {},
   "outputs": [
    {
     "data": {
      "text/plain": [
       "dict_values(['xvcvv', 'ineuron', {1: 'sudh', 2: 'kumar', 3: 'xyz'}, 345])"
      ]
     },
     "execution_count": 108,
     "metadata": {},
     "output_type": "execute_result"
    }
   ],
   "source": [
    "d.values()"
   ]
  },
  {
   "cell_type": "code",
   "execution_count": 109,
   "id": "a51a67d7",
   "metadata": {},
   "outputs": [
    {
     "data": {
      "text/plain": [
       "dict_items([('k1', 'xvcvv'), ('k2', 'ineuron'), ('k3', {1: 'sudh', 2: 'kumar', 3: 'xyz'}), ('k4', 345)])"
      ]
     },
     "execution_count": 109,
     "metadata": {},
     "output_type": "execute_result"
    }
   ],
   "source": [
    "d.items()"
   ]
  },
  {
   "cell_type": "code",
   "execution_count": 112,
   "id": "8b50ce7c",
   "metadata": {},
   "outputs": [
    {
     "data": {
      "text/plain": [
       "'k2'"
      ]
     },
     "execution_count": 112,
     "metadata": {},
     "output_type": "execute_result"
    }
   ],
   "source": [
    "list(d.keys())[1]"
   ]
  },
  {
   "cell_type": "code",
   "execution_count": 113,
   "id": "35eed940",
   "metadata": {},
   "outputs": [
    {
     "data": {
      "text/plain": [
       "{'k1': 'xvcvv',\n",
       " 'k2': 'ineuron',\n",
       " 'k3': {1: 'sudh', 2: 'kumar', 3: 'xyz'},\n",
       " 'k4': 345}"
      ]
     },
     "execution_count": 113,
     "metadata": {},
     "output_type": "execute_result"
    }
   ],
   "source": [
    "d"
   ]
  },
  {
   "cell_type": "code",
   "execution_count": 120,
   "id": "8546299b",
   "metadata": {},
   "outputs": [
    {
     "name": "stdout",
     "output_type": "stream",
     "text": [
      "{1: 'sudh', 2: 'kumar', 3: 'xyz'}\n"
     ]
    }
   ],
   "source": [
    "for i in d.keys():\n",
    "    if type(d[i])==dict:\n",
    "        print(d[i])"
   ]
  },
  {
   "cell_type": "code",
   "execution_count": 128,
   "id": "6b8a3162",
   "metadata": {},
   "outputs": [],
   "source": [
    "d={}\n",
    "for i in range(11):\n",
    "    d[i]=i**2"
   ]
  },
  {
   "cell_type": "code",
   "execution_count": 129,
   "id": "59e35cea",
   "metadata": {},
   "outputs": [
    {
     "data": {
      "text/plain": [
       "{0: 0, 1: 1, 2: 4, 3: 9, 4: 16, 5: 25, 6: 36, 7: 49, 8: 64, 9: 81, 10: 100}"
      ]
     },
     "execution_count": 129,
     "metadata": {},
     "output_type": "execute_result"
    }
   ],
   "source": [
    "d"
   ]
  },
  {
   "cell_type": "code",
   "execution_count": 131,
   "id": "fc1d66be",
   "metadata": {},
   "outputs": [
    {
     "data": {
      "text/plain": [
       "{0: 0, 1: 1, 2: 4, 3: 9, 4: 16, 5: 25, 6: 36, 7: 49, 8: 64, 9: 81, 10: 100}"
      ]
     },
     "execution_count": 131,
     "metadata": {},
     "output_type": "execute_result"
    }
   ],
   "source": [
    "{i:i**2 for i in range(11)}"
   ]
  },
  {
   "cell_type": "code",
   "execution_count": 140,
   "id": "99e37e93",
   "metadata": {},
   "outputs": [
    {
     "data": {
      "text/plain": [
       "{'i': 'ineuron',\n",
       " 'n': 'ineuron',\n",
       " 'e': 'ineuron',\n",
       " 'u': 'ineuron',\n",
       " 'r': 'ineuron',\n",
       " 'o': 'ineuron'}"
      ]
     },
     "execution_count": 140,
     "metadata": {},
     "output_type": "execute_result"
    }
   ],
   "source": [
    "d={}\n",
    "s='ineuron'\n",
    "for i in s:\n",
    "    d[i]='ineuron'\n",
    "d"
   ]
  },
  {
   "cell_type": "code",
   "execution_count": 141,
   "id": "f43f8344",
   "metadata": {},
   "outputs": [
    {
     "data": {
      "text/plain": [
       "{'i': 'ineuron',\n",
       " 'n': 'ineuron',\n",
       " 'e': 'ineuron',\n",
       " 'u': 'ineuron',\n",
       " 'r': 'ineuron',\n",
       " 'o': 'ineuron'}"
      ]
     },
     "execution_count": 141,
     "metadata": {},
     "output_type": "execute_result"
    }
   ],
   "source": [
    "s='ineuron'\n",
    "{i:'ineuron' for i in s}"
   ]
  },
  {
   "cell_type": "code",
   "execution_count": 2,
   "id": "82568bb7",
   "metadata": {},
   "outputs": [],
   "source": [
    "d={'ineuron':{'a':23,'b':34,'c':56},'course':{'d':45,'e':12},'k1':90,'t':{3,5,6676776}}"
   ]
  },
  {
   "cell_type": "code",
   "execution_count": 173,
   "id": "0642acb3",
   "metadata": {},
   "outputs": [
    {
     "data": {
      "text/plain": [
       "{'ineuron': {'a': 23, 'b': 34, 'c': 56},\n",
       " 'course': {'d': 45, 'e': 12},\n",
       " 'k1': 90,\n",
       " 't': {3, 5, 6676776}}"
      ]
     },
     "execution_count": 173,
     "metadata": {},
     "output_type": "execute_result"
    }
   ],
   "source": [
    "d"
   ]
  },
  {
   "cell_type": "code",
   "execution_count": 174,
   "id": "318b5d43",
   "metadata": {},
   "outputs": [
    {
     "name": "stdout",
     "output_type": "stream",
     "text": [
      "6676776\n"
     ]
    }
   ],
   "source": [
    "#find max no from the dict\n",
    "max=0\n",
    "for i in d.values():\n",
    "    if type(i)==int:\n",
    "        if max <i:\n",
    "            max=i\n",
    "    elif type(i)==dict:\n",
    "        for j in i.values():\n",
    "            if max < j:\n",
    "                max=j\n",
    "    else:\n",
    "        for j in i:\n",
    "            if max < j :\n",
    "                max=j\n",
    "print(max)"
   ]
  },
  {
   "cell_type": "code",
   "execution_count": 3,
   "id": "4a75796e",
   "metadata": {},
   "outputs": [
    {
     "data": {
      "text/plain": [
       "dict_values([{'a': 23, 'b': 34, 'c': 56}, {'d': 45, 'e': 12}, 90, {6676776, 3, 5}])"
      ]
     },
     "execution_count": 3,
     "metadata": {},
     "output_type": "execute_result"
    }
   ],
   "source": [
    "d.values()"
   ]
  },
  {
   "cell_type": "code",
   "execution_count": 20,
   "id": "2c7da625",
   "metadata": {},
   "outputs": [],
   "source": [
    "d={\"January\": [1000,1500,2700], \"February\": [1100,1300,1500], \"March\":[2000,2200,2400] }"
   ]
  },
  {
   "cell_type": "code",
   "execution_count": 21,
   "id": "33ba2c0b",
   "metadata": {},
   "outputs": [
    {
     "name": "stdout",
     "output_type": "stream",
     "text": [
      "2700\n"
     ]
    }
   ],
   "source": [
    "max=0\n",
    "for i in d.values():\n",
    "    if type(i)==int:\n",
    "        if max <i:\n",
    "            max=i\n",
    "    elif type(i)==bool:\n",
    "        if max <i:\n",
    "            max=i\n",
    "    elif type(i)==float:\n",
    "        if max <i:\n",
    "            max=i\n",
    "    elif type(i)==str:\n",
    "        if str(max) < i:\n",
    "            max=i\n",
    "    elif type(i)==dict:\n",
    "        for j in i.values():\n",
    "            if max < j:\n",
    "                max=j\n",
    "    else:\n",
    "        for j in i:\n",
    "            if max < j :\n",
    "                max=j\n",
    "print(max)"
   ]
  },
  {
   "cell_type": "code",
   "execution_count": 3,
   "id": "50612e5a",
   "metadata": {},
   "outputs": [
    {
     "data": {
      "text/plain": [
       "[1, 2]"
      ]
     },
     "execution_count": 3,
     "metadata": {},
     "output_type": "execute_result"
    }
   ],
   "source": [
    "l=[1,2,3,4,5]\n",
    "l[-5:-3:1]"
   ]
  },
  {
   "cell_type": "code",
   "execution_count": null,
   "id": "53d9a36a",
   "metadata": {},
   "outputs": [],
   "source": []
  }
 ],
 "metadata": {
  "kernelspec": {
   "display_name": "Python 3",
   "language": "python",
   "name": "python3"
  },
  "language_info": {
   "codemirror_mode": {
    "name": "ipython",
    "version": 3
   },
   "file_extension": ".py",
   "mimetype": "text/x-python",
   "name": "python",
   "nbconvert_exporter": "python",
   "pygments_lexer": "ipython3",
   "version": "3.8.8"
  }
 },
 "nbformat": 4,
 "nbformat_minor": 5
}
