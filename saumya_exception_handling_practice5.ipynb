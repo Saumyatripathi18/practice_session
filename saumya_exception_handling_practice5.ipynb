{
 "cells": [
  {
   "cell_type": "code",
   "execution_count": 2,
   "id": "8b8143a0",
   "metadata": {},
   "outputs": [
    {
     "ename": "ZeroDivisionError",
     "evalue": "division by zero",
     "output_type": "error",
     "traceback": [
      "\u001b[1;31m---------------------------------------------------------------------------\u001b[0m",
      "\u001b[1;31mZeroDivisionError\u001b[0m                         Traceback (most recent call last)",
      "\u001b[1;32m<ipython-input-2-7ee56d1498ea>\u001b[0m in \u001b[0;36m<module>\u001b[1;34m\u001b[0m\n\u001b[1;32m----> 1\u001b[1;33m \u001b[1;36m1\u001b[0m\u001b[1;33m/\u001b[0m\u001b[1;36m0\u001b[0m\u001b[1;33m\u001b[0m\u001b[1;33m\u001b[0m\u001b[0m\n\u001b[0m\u001b[0;32m      2\u001b[0m \u001b[0mprint\u001b[0m\u001b[1;33m(\u001b[0m\u001b[1;34m'this is my program'\u001b[0m\u001b[1;33m)\u001b[0m\u001b[1;33m\u001b[0m\u001b[1;33m\u001b[0m\u001b[0m\n",
      "\u001b[1;31mZeroDivisionError\u001b[0m: division by zero"
     ]
    }
   ],
   "source": [
    "1/0\n",
    "print('this is my program')"
   ]
  },
  {
   "cell_type": "code",
   "execution_count": 4,
   "id": "db73be83",
   "metadata": {},
   "outputs": [
    {
     "name": "stdout",
     "output_type": "stream",
     "text": [
      "division by zero\n",
      "this is my program\n"
     ]
    }
   ],
   "source": [
    "try:\n",
    "    1/0\n",
    "except Exception as e:\n",
    "    print(e)\n",
    "print('this is my program')"
   ]
  },
  {
   "cell_type": "code",
   "execution_count": 11,
   "id": "e415dbe6",
   "metadata": {},
   "outputs": [
    {
     "name": "stdout",
     "output_type": "stream",
     "text": [
      "sffgfgfv\n",
      "this is my program\n"
     ]
    }
   ],
   "source": [
    "try:\n",
    "    1/0\n",
    "except Exception as e:\n",
    "    print('sffgfgfv')\n",
    "try:\n",
    "    print('this is my program')\n",
    "except :\n",
    "    print('fgfg')"
   ]
  },
  {
   "cell_type": "code",
   "execution_count": 17,
   "id": "e49eb39b",
   "metadata": {},
   "outputs": [
    {
     "data": {
      "text/plain": [
       "<_io.TextIOWrapper name='test.txt' mode='r' encoding='cp1252'>"
      ]
     },
     "execution_count": 17,
     "metadata": {},
     "output_type": "execute_result"
    }
   ],
   "source": [
    "open('test.txt','r')"
   ]
  },
  {
   "cell_type": "code",
   "execution_count": 13,
   "id": "132c7ce5",
   "metadata": {},
   "outputs": [
    {
     "data": {
      "text/plain": [
       "'C:\\\\Users\\\\mtrip'"
      ]
     },
     "execution_count": 13,
     "metadata": {},
     "output_type": "execute_result"
    }
   ],
   "source": [
    "pwd()"
   ]
  },
  {
   "cell_type": "code",
   "execution_count": 18,
   "id": "530b12f2",
   "metadata": {},
   "outputs": [
    {
     "ename": "UnsupportedOperation",
     "evalue": "not writable",
     "output_type": "error",
     "traceback": [
      "\u001b[1;31m---------------------------------------------------------------------------\u001b[0m",
      "\u001b[1;31mUnsupportedOperation\u001b[0m                      Traceback (most recent call last)",
      "\u001b[1;32m<ipython-input-18-9401622cbcb7>\u001b[0m in \u001b[0;36m<module>\u001b[1;34m\u001b[0m\n\u001b[0;32m      1\u001b[0m \u001b[0mf\u001b[0m\u001b[1;33m=\u001b[0m\u001b[0mopen\u001b[0m\u001b[1;33m(\u001b[0m\u001b[1;34m'test.txt'\u001b[0m\u001b[1;33m,\u001b[0m\u001b[1;34m'r'\u001b[0m\u001b[1;33m)\u001b[0m\u001b[1;33m\u001b[0m\u001b[1;33m\u001b[0m\u001b[0m\n\u001b[1;32m----> 2\u001b[1;33m \u001b[0mf\u001b[0m\u001b[1;33m.\u001b[0m\u001b[0mwrite\u001b[0m\u001b[1;33m(\u001b[0m\u001b[1;34m'this is my first file'\u001b[0m\u001b[1;33m)\u001b[0m\u001b[1;33m\u001b[0m\u001b[1;33m\u001b[0m\u001b[0m\n\u001b[0m",
      "\u001b[1;31mUnsupportedOperation\u001b[0m: not writable"
     ]
    }
   ],
   "source": [
    "f=open('test.txt','r')\n",
    "f.write('this is my first file')"
   ]
  },
  {
   "cell_type": "code",
   "execution_count": 21,
   "id": "bfe20613",
   "metadata": {},
   "outputs": [
    {
     "data": {
      "text/plain": [
       "21"
      ]
     },
     "execution_count": 21,
     "metadata": {},
     "output_type": "execute_result"
    }
   ],
   "source": [
    "f=open('test.txt','w')\n",
    "f.write('this is my first file') #output is 21 coz it is showing pointer that i have used 21 spaces and after 21 it is available"
   ]
  },
  {
   "cell_type": "code",
   "execution_count": 20,
   "id": "4e7eb951",
   "metadata": {},
   "outputs": [
    {
     "name": "stdout",
     "output_type": "stream",
     "text": [
      " Volume in drive C is Windows\n",
      " Volume Serial Number is 3E9D-5BFC\n",
      "\n",
      " Directory of C:\\Users\\mtrip\n",
      "\n",
      "10-10-2021  14:02    <DIR>          .\n",
      "10-10-2021  14:02    <DIR>          ..\n",
      "10-10-2021  14:03    <DIR>          .conda\n",
      "21-08-2021  13:59                25 .condarc\n",
      "21-08-2021  13:59    <DIR>          .continuum\n",
      "10-10-2021  13:47    <DIR>          .ipynb_checkpoints\n",
      "21-08-2021  14:01    <DIR>          .ipython\n",
      "14-09-2021  19:43    <DIR>          .jupyter\n",
      "13-09-2021  12:25    <DIR>          .matplotlib\n",
      "21-08-2021  11:57    <DIR>          3D Objects\n",
      "21-08-2021  13:58    <DIR>          anaconda3\n",
      "25-09-2021  16:30         1,275,806 Churn Analysis - EDA.ipynb\n",
      "21-08-2021  11:57    <DIR>          Contacts\n",
      "21-08-2021  11:59    <DIR>          Documents\n",
      "10-10-2021  13:29    <DIR>          Downloads\n",
      "21-08-2021  12:02    <DIR>          Dropbox\n",
      "04-10-2021  23:14         1,206,726 EDA 1st Practice - Churn Analysis.ipynb\n",
      "21-08-2021  11:57    <DIR>          Favorites\n",
      "13-09-2021  09:15             2,713 Iterators_Generators.ipynb\n",
      "21-08-2021  11:57    <DIR>          Links\n",
      "27-08-2021  16:20             5,651 List.ipynb\n",
      "16-09-2021  22:23         2,850,843 Matplotlib.ipynb\n",
      "21-08-2021  14:15    <DIR>          Microsoft\n",
      "21-08-2021  11:57    <DIR>          Music\n",
      "13-09-2021  08:47                55 new_df.csv\n",
      "16-09-2021  21:47           949,390 NumPy.ipynb\n",
      "04-10-2021  23:46           215,928 Numpy_Main.ipynb\n",
      "10-10-2021  13:14    <DIR>          OneDrive\n",
      "03-10-2021  12:24            66,348 Outliers.ipynb\n",
      "13-09-2021  08:50           132,653 Pandas Library.ipynb\n",
      "16-09-2021  22:12           722,733 Pandas.ipynb\n",
      "25-08-2021  20:57             3,970 Practice Python.ipynb\n",
      "13-09-2021  13:11             3,967 Practice Range and If Fn.ipynb\n",
      "12-09-2021  23:19    <DIR>          PycharmProjects\n",
      "10-10-2021  14:02             4,480 saumya_exception_handling_practice5.ipynb\n",
      "10-10-2021  13:20            26,246 saumya_function_practice4.ipynb\n",
      "08-10-2021  16:29           102,569 saumya_python_assignment_1.ipynb\n",
      "08-10-2021  16:52             1,545 saumya_python_assignment_2.ipynb\n",
      "08-10-2021  19:54             2,670 saumya_python_assignment_3.ipynb\n",
      "14-09-2021  21:46            47,490 saumya_python_practice1.ipynb\n",
      "08-10-2021  00:15         1,135,440 saumya_python_practice2.ipynb\n",
      "10-10-2021  13:20            31,059 saumya_python_practice3.ipynb\n",
      "21-08-2021  11:57    <DIR>          Saved Games\n",
      "13-09-2021  12:26    <DIR>          seaborn-data\n",
      "21-08-2021  11:58    <DIR>          Searches\n",
      "10-10-2021  14:02                 0 test.txt\n",
      "16-09-2021  12:43    <DIR>          Tracing\n",
      "25-08-2021  20:54             4,185 tuples.ipynb\n",
      "12-09-2021  15:50             6,402 Untitled.ipynb\n",
      "21-08-2021  14:04                72 Untitled1.ipynb\n",
      "08-10-2021  16:49             1,211 Untitled10.ipynb\n",
      "08-10-2021  16:49             1,187 Untitled11.ipynb\n",
      "08-10-2021  19:53             2,670 Untitled12.ipynb\n",
      "08-10-2021  20:09             2,706 Untitled13.ipynb\n",
      "09-10-2021  22:08             3,781 Untitled14.ipynb\n",
      "10-10-2021  13:46             2,039 Untitled15.ipynb\n",
      "05-09-2021  12:02             5,155 Untitled2.ipynb\n",
      "25-08-2021  17:33             1,986 Untitled3.ipynb\n",
      "05-09-2021  22:20             3,656 Untitled4.ipynb\n",
      "07-09-2021  21:23               576 Untitled5.ipynb\n",
      "12-09-2021  15:57                72 Untitled6.ipynb\n",
      "16-09-2021  14:14               588 Untitled7.ipynb\n",
      "08-10-2021  16:16           102,117 Untitled8.ipynb\n",
      "08-10-2021  16:41             2,127 Untitled9.ipynb\n",
      "21-08-2021  12:45    <DIR>          Videos\n",
      "18-09-2021  15:19           977,501 WA_Fn-UseC_-Telco-Customer-Churn.csv\n",
      "              41 File(s)      9,906,338 bytes\n",
      "              25 Dir(s)  416,854,736,896 bytes free\n"
     ]
    }
   ],
   "source": [
    "ls"
   ]
  },
  {
   "cell_type": "code",
   "execution_count": 22,
   "id": "4322bbfc",
   "metadata": {},
   "outputs": [
    {
     "name": "stdout",
     "output_type": "stream",
     "text": [
      "not writable\n"
     ]
    }
   ],
   "source": [
    "try:\n",
    "    f=open('test.txt','r')\n",
    "    f.write('this is my first file')\n",
    "except Exception as e:\n",
    "    print(e)"
   ]
  },
  {
   "cell_type": "code",
   "execution_count": 27,
   "id": "5a981f4f",
   "metadata": {},
   "outputs": [
    {
     "name": "stdout",
     "output_type": "stream",
     "text": [
      "not writable\n"
     ]
    }
   ],
   "source": [
    "try:\n",
    "    f=open('test.txt','r')\n",
    "    f.write('this is my first file')\n",
    "    a=10/0\n",
    "except IOError as e:\n",
    "    print(e)"
   ]
  },
  {
   "cell_type": "code",
   "execution_count": 33,
   "id": "59037750",
   "metadata": {},
   "outputs": [
    {
     "name": "stdout",
     "output_type": "stream",
     "text": [
      "division by zero\n"
     ]
    }
   ],
   "source": [
    "try:\n",
    "    a=10/0\n",
    "    f=open('test.txt','r')\n",
    "    f.write('this is my first file')\n",
    "except IOError as e:\n",
    "    print(e)\n",
    "except ZeroDivisionError as e:\n",
    "    print(e)"
   ]
  },
  {
   "cell_type": "code",
   "execution_count": 35,
   "id": "446baeda",
   "metadata": {},
   "outputs": [
    {
     "name": "stdout",
     "output_type": "stream",
     "text": [
      "division by zero\n"
     ]
    }
   ],
   "source": [
    "try:\n",
    "    a=10/0\n",
    "    f=open('test.txt','r')\n",
    "    f.write('this is my first file')\n",
    "except IOError as e:\n",
    "    print(e)\n",
    "except ZeroDivisionError as e:\n",
    "    print(e)\n",
    "except Exception as e:\n",
    "    print('this is my exception',e)"
   ]
  },
  {
   "cell_type": "code",
   "execution_count": 39,
   "id": "f33ef955",
   "metadata": {},
   "outputs": [
    {
     "name": "stdout",
     "output_type": "stream",
     "text": [
      "saumya\n",
      "this will be executed after a successful execution of try\n"
     ]
    }
   ],
   "source": [
    "try:\n",
    "    a=10/3\n",
    "    try:\n",
    "        f=open('test.txt','r')\n",
    "        f.write('this is my file')\n",
    "    except:\n",
    "        print('saumya')\n",
    "    else:\n",
    "        print('this will be executed once internal try will execute successfully')\n",
    "except IOError as e:\n",
    "    print(e)\n",
    "except ZeroDivisionError as e:\n",
    "    print(e)\n",
    "except Exception as e:\n",
    "    print('this is my exception',e)\n",
    "else:\n",
    "    print('this will be executed after a successful execution of try')"
   ]
  },
  {
   "cell_type": "code",
   "execution_count": 40,
   "id": "ef8b993b",
   "metadata": {},
   "outputs": [
    {
     "name": "stdout",
     "output_type": "stream",
     "text": [
      "not writable\n"
     ]
    }
   ],
   "source": [
    "try:\n",
    "    f=open('test.txt','r')\n",
    "    f.write('this is my first file')\n",
    "    a=10/0\n",
    "except IOError as e:\n",
    "    print(e)\n",
    "else:#else part is not printed coz try is not successful there is an exception\n",
    "    print('saumya')"
   ]
  },
  {
   "cell_type": "code",
   "execution_count": 41,
   "id": "b0e92889",
   "metadata": {},
   "outputs": [
    {
     "name": "stdout",
     "output_type": "stream",
     "text": [
      "saumya\n"
     ]
    }
   ],
   "source": [
    "try:\n",
    "    a=10/5\n",
    "except IOError as e:\n",
    "    print(e)\n",
    "else:#else part is executed as try block is successfully executed\n",
    "    print('saumya')"
   ]
  },
  {
   "cell_type": "code",
   "execution_count": 45,
   "id": "67b07774",
   "metadata": {},
   "outputs": [
    {
     "name": "stdout",
     "output_type": "stream",
     "text": [
      "23\n",
      "0.34328358208955223\n",
      "on successful execution of try block\n"
     ]
    }
   ],
   "source": [
    "try:\n",
    "    a=int(input())\n",
    "    print(a/67)\n",
    "except Exception as e:\n",
    "    print(e)\n",
    "else:\n",
    "    print(\"on successful execution of try block\")"
   ]
  },
  {
   "cell_type": "code",
   "execution_count": 47,
   "id": "9f1b65eb",
   "metadata": {},
   "outputs": [
    {
     "name": "stdout",
     "output_type": "stream",
     "text": [
      "saumya\n",
      "invalid literal for int() with base 10: 'saumya'\n",
      "it will execute always\n"
     ]
    }
   ],
   "source": [
    "try:\n",
    "    a=int(input())\n",
    "    print(a/67)\n",
    "except Exception as e:\n",
    "    print(e)\n",
    "else:\n",
    "    print(\"on successful execution of try block\")\n",
    "finally:\n",
    "    print('it will execute always')"
   ]
  },
  {
   "cell_type": "code",
   "execution_count": 48,
   "id": "c97df6ad",
   "metadata": {},
   "outputs": [
    {
     "name": "stdout",
     "output_type": "stream",
     "text": [
      "345\n",
      "5.149253731343284\n",
      "on successful execution of try block\n",
      "it will execute always\n"
     ]
    }
   ],
   "source": [
    "try:\n",
    "    a=int(input())\n",
    "    print(a/67)\n",
    "except Exception as e:\n",
    "    print(e)\n",
    "else:\n",
    "    print(\"on successful execution of try block\")\n",
    "finally:\n",
    "    print('it will execute always')"
   ]
  },
  {
   "cell_type": "code",
   "execution_count": 52,
   "id": "5e4fd182",
   "metadata": {},
   "outputs": [],
   "source": [
    "def askint():\n",
    "    try:\n",
    "        val=int(input('try to input integer '))\n",
    "    except Exception as e:\n",
    "        print(e)\n",
    "    finally:\n",
    "        print('this will execute by default')"
   ]
  },
  {
   "cell_type": "code",
   "execution_count": 53,
   "id": "70e1c58c",
   "metadata": {},
   "outputs": [
    {
     "name": "stdout",
     "output_type": "stream",
     "text": [
      "try to input integer dfg\n",
      "invalid literal for int() with base 10: 'dfg'\n",
      "this will execute by default\n"
     ]
    }
   ],
   "source": [
    "askint()"
   ]
  },
  {
   "cell_type": "code",
   "execution_count": 58,
   "id": "9b6ee44b",
   "metadata": {},
   "outputs": [],
   "source": [
    "def askint():\n",
    "    try:\n",
    "        val=int(input('try to input integer '))\n",
    "    except:\n",
    "        askint()"
   ]
  },
  {
   "cell_type": "code",
   "execution_count": 59,
   "id": "40a23bfc",
   "metadata": {},
   "outputs": [
    {
     "name": "stdout",
     "output_type": "stream",
     "text": [
      "try to input integer sfg\n",
      "try to input integer dv\n",
      "try to input integer dfdg\n",
      "try to input integer 47\n"
     ]
    }
   ],
   "source": [
    "askint()"
   ]
  },
  {
   "cell_type": "code",
   "execution_count": 60,
   "id": "9dbed9db",
   "metadata": {},
   "outputs": [],
   "source": [
    "def askint():\n",
    "    try:\n",
    "        val=int(input('try to input integer '))\n",
    "    except:\n",
    "        askint()\n",
    "    finally:\n",
    "        print('this is my finally')"
   ]
  },
  {
   "cell_type": "code",
   "execution_count": 61,
   "id": "c823d12e",
   "metadata": {},
   "outputs": [
    {
     "name": "stdout",
     "output_type": "stream",
     "text": [
      "try to input integer dgf\n",
      "try to input integer sfdsf\n",
      "try to input integer sdfgb\n",
      "try to input integer 456\n",
      "this is my finally\n",
      "this is my finally\n",
      "this is my finally\n",
      "this is my finally\n"
     ]
    }
   ],
   "source": [
    "askint()"
   ]
  },
  {
   "cell_type": "code",
   "execution_count": 68,
   "id": "b4569693",
   "metadata": {},
   "outputs": [],
   "source": [
    "def askInt():\n",
    "    while True:\n",
    "        try:\n",
    "            a=int(input('Enter input'))\n",
    "        except Exception as e:\n",
    "            print('This is error',e)\n",
    "            continue\n",
    "        else:\n",
    "            break\n",
    "        finally:\n",
    "            print('all good in finally')"
   ]
  },
  {
   "cell_type": "code",
   "execution_count": 69,
   "id": "365f5ca3",
   "metadata": {},
   "outputs": [
    {
     "name": "stdout",
     "output_type": "stream",
     "text": [
      "Enter inputsdffg\n",
      "This is error invalid literal for int() with base 10: 'sdffg'\n",
      "all good in finally\n",
      "Enter inputsfdf\n",
      "This is error invalid literal for int() with base 10: 'sfdf'\n",
      "all good in finally\n",
      "Enter inputsfggh\n",
      "This is error invalid literal for int() with base 10: 'sfggh'\n",
      "all good in finally\n",
      "Enter input456\n",
      "all good in finally\n"
     ]
    }
   ],
   "source": [
    "askInt()"
   ]
  },
  {
   "cell_type": "code",
   "execution_count": 70,
   "id": "bb1bec63",
   "metadata": {},
   "outputs": [
    {
     "data": {
      "text/plain": [
       "0.5"
      ]
     },
     "execution_count": 70,
     "metadata": {},
     "output_type": "execute_result"
    }
   ],
   "source": [
    "5/10"
   ]
  },
  {
   "cell_type": "code",
   "execution_count": 75,
   "id": "95873de9",
   "metadata": {},
   "outputs": [],
   "source": [
    "def raiseexception(a):\n",
    "    if a < 5:\n",
    "        raise Exception('this is my msg',a)\n",
    "    return a"
   ]
  },
  {
   "cell_type": "code",
   "execution_count": 76,
   "id": "3e12ab88",
   "metadata": {},
   "outputs": [
    {
     "data": {
      "text/plain": [
       "7"
      ]
     },
     "execution_count": 76,
     "metadata": {},
     "output_type": "execute_result"
    }
   ],
   "source": [
    "raiseexception(7)"
   ]
  },
  {
   "cell_type": "code",
   "execution_count": 83,
   "id": "2d00f7f8",
   "metadata": {},
   "outputs": [
    {
     "name": "stdout",
     "output_type": "stream",
     "text": [
      "('this is my msg', 4)\n"
     ]
    }
   ],
   "source": [
    "try:\n",
    "    raiseexception(4)\n",
    "except Exception as e:\n",
    "    print(e)"
   ]
  },
  {
   "cell_type": "code",
   "execution_count": null,
   "id": "16aa955f",
   "metadata": {},
   "outputs": [],
   "source": [
    "l=[]\n",
    "def testexception():\n",
    "    try:\n",
    "        for i in range(10):\n",
    "            i=int(input('try to input integer '))\n",
    "            if i < 5:\n",
    "                raise Exception('this is less than 5')\n",
    "            else:\n",
    "                l.append(i)\n",
    "    except:\n",
    "        testexception()"
   ]
  },
  {
   "cell_type": "code",
   "execution_count": null,
   "id": "876764e4",
   "metadata": {},
   "outputs": [],
   "source": [
    "testexception()"
   ]
  },
  {
   "cell_type": "code",
   "execution_count": null,
   "id": "d8c63042",
   "metadata": {},
   "outputs": [],
   "source": []
  }
 ],
 "metadata": {
  "kernelspec": {
   "display_name": "Python 3",
   "language": "python",
   "name": "python3"
  },
  "language_info": {
   "codemirror_mode": {
    "name": "ipython",
    "version": 3
   },
   "file_extension": ".py",
   "mimetype": "text/x-python",
   "name": "python",
   "nbconvert_exporter": "python",
   "pygments_lexer": "ipython3",
   "version": "3.8.8"
  }
 },
 "nbformat": 4,
 "nbformat_minor": 5
}
