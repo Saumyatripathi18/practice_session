{
 "cells": [
  {
   "cell_type": "code",
   "execution_count": 23,
   "id": "a46fe0d4",
   "metadata": {},
   "outputs": [
    {
     "data": {
      "text/plain": [
       "[2, 4, 6, 8, 10]"
      ]
     },
     "execution_count": 23,
     "metadata": {},
     "output_type": "execute_result"
    }
   ],
   "source": [
    "#Question 1.1\n",
    "def even_no(num):\n",
    "    if num%2==0:\n",
    "        return True\n",
    "    else:\n",
    "        return False\n",
    "\n",
    "def myfilter(function,no):\n",
    "    l1=[]\n",
    "    for i in no:\n",
    "        if function(i) == True:\n",
    "            l1.append(i)\n",
    "    return l1\n",
    "\n",
    "list(myfilter(even_no,[1,2,3,4,5,6,7,8,9,10,11]))"
   ]
  },
  {
   "cell_type": "code",
   "execution_count": 37,
   "id": "f8bf7706",
   "metadata": {},
   "outputs": [
    {
     "data": {
      "text/plain": [
       "10"
      ]
     },
     "execution_count": 37,
     "metadata": {},
     "output_type": "execute_result"
    }
   ],
   "source": [
    "#Question 1.2\n",
    "def add(a, b):\n",
    "    return a+b\n",
    "l = [1,2,3,4]\n",
    "def myreduce(function, no):\n",
    "    x = no[0]\n",
    "    for y in no[1:]:\n",
    "        x = function(x, y)\n",
    "    return x\n",
    "\n",
    "\n",
    "myreduce(add, l)"
   ]
  },
  {
   "cell_type": "code",
   "execution_count": 35,
   "id": "cb252b5e",
   "metadata": {},
   "outputs": [
    {
     "data": {
      "text/plain": [
       "['x', 'xx', 'xxx', 'xxxx', 'y', 'yy', 'yyy', 'yyyy', 'z', 'zz', 'zzz', 'zzzz']"
      ]
     },
     "execution_count": 35,
     "metadata": {},
     "output_type": "execute_result"
    }
   ],
   "source": [
    "#Question 2 starts from here\n",
    "[i*j for i in 'xyz' for j in range(1,5) ]"
   ]
  },
  {
   "cell_type": "code",
   "execution_count": 36,
   "id": "e6065fc7",
   "metadata": {},
   "outputs": [
    {
     "data": {
      "text/plain": [
       "['x', 'y', 'z', 'xx', 'yy', 'zz', 'xxx', 'yyy', 'zzz', 'xxxx', 'yyyy', 'zzzz']"
      ]
     },
     "execution_count": 36,
     "metadata": {},
     "output_type": "execute_result"
    }
   ],
   "source": [
    "[i*j for i in range(1,5) for j in 'xyz' ]"
   ]
  },
  {
   "cell_type": "code",
   "execution_count": 76,
   "id": "3487052d",
   "metadata": {},
   "outputs": [
    {
     "data": {
      "text/plain": [
       "[[2], [3], [4], [3], [4], [5], [4], [5], [6]]"
      ]
     },
     "execution_count": 76,
     "metadata": {},
     "output_type": "execute_result"
    }
   ],
   "source": [
    "[[i+j] for i in range(2,5) for j in range(3)]"
   ]
  },
  {
   "cell_type": "code",
   "execution_count": 59,
   "id": "a205b5b8",
   "metadata": {},
   "outputs": [
    {
     "data": {
      "text/plain": [
       "[(1, 1), (2, 1), (3, 1), (1, 2), (2, 2), (3, 2), (1, 3), (2, 3), (3, 3)]"
      ]
     },
     "execution_count": 59,
     "metadata": {},
     "output_type": "execute_result"
    }
   ],
   "source": [
    "[(j,i) for i in range(1,4) for j in range(1,4)]"
   ]
  },
  {
   "cell_type": "code",
   "execution_count": 73,
   "id": "5116ebed",
   "metadata": {},
   "outputs": [
    {
     "data": {
      "text/plain": [
       "[[2, 3, 4, 5], [3, 4, 5, 6], [4, 5, 6, 7], [5, 6, 7, 8]]"
      ]
     },
     "execution_count": 73,
     "metadata": {},
     "output_type": "execute_result"
    }
   ],
   "source": [
    "[[i+j for i in range(4)] for j in range(2,6) ]"
   ]
  },
  {
   "cell_type": "code",
   "execution_count": null,
   "id": "b2e2282b",
   "metadata": {},
   "outputs": [],
   "source": []
  }
 ],
 "metadata": {
  "kernelspec": {
   "display_name": "Python 3",
   "language": "python",
   "name": "python3"
  },
  "language_info": {
   "codemirror_mode": {
    "name": "ipython",
    "version": 3
   },
   "file_extension": ".py",
   "mimetype": "text/x-python",
   "name": "python",
   "nbconvert_exporter": "python",
   "pygments_lexer": "ipython3",
   "version": "3.8.8"
  }
 },
 "nbformat": 4,
 "nbformat_minor": 5
}
