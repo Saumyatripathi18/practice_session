{
 "cells": [
  {
   "cell_type": "code",
   "execution_count": 1,
   "id": "66b08531",
   "metadata": {},
   "outputs": [
    {
     "data": {
      "text/plain": [
       "range(0, 6)"
      ]
     },
     "execution_count": 1,
     "metadata": {},
     "output_type": "execute_result"
    }
   ],
   "source": [
    "l=[3,4,5,6,7,7]\n",
    "len(l)\n",
    "range(len(l))"
   ]
  },
  {
   "cell_type": "code",
   "execution_count": 2,
   "id": "1a42f10b",
   "metadata": {},
   "outputs": [
    {
     "name": "stdout",
     "output_type": "stream",
     "text": [
      "this is my print\n"
     ]
    }
   ],
   "source": [
    "print('this is my print')"
   ]
  },
  {
   "cell_type": "code",
   "execution_count": 3,
   "id": "eca65d6a",
   "metadata": {},
   "outputs": [
    {
     "data": {
      "text/plain": [
       "list"
      ]
     },
     "execution_count": 3,
     "metadata": {},
     "output_type": "execute_result"
    }
   ],
   "source": [
    "type(l)"
   ]
  },
  {
   "cell_type": "code",
   "execution_count": 9,
   "id": "281b3f2e",
   "metadata": {},
   "outputs": [],
   "source": [
    "def test():\n",
    "    pass"
   ]
  },
  {
   "cell_type": "code",
   "execution_count": 10,
   "id": "bba3bd1b",
   "metadata": {},
   "outputs": [],
   "source": [
    "test()"
   ]
  },
  {
   "cell_type": "code",
   "execution_count": 11,
   "id": "777786f9",
   "metadata": {},
   "outputs": [],
   "source": [
    "def test1():\n",
    "    print('this is my first function')"
   ]
  },
  {
   "cell_type": "code",
   "execution_count": 12,
   "id": "e3fbc968",
   "metadata": {},
   "outputs": [
    {
     "name": "stdout",
     "output_type": "stream",
     "text": [
      "this is my first function\n"
     ]
    }
   ],
   "source": [
    "test1()"
   ]
  },
  {
   "cell_type": "code",
   "execution_count": 13,
   "id": "36ec259b",
   "metadata": {},
   "outputs": [],
   "source": [
    "def test2():\n",
    "    print(1+2)"
   ]
  },
  {
   "cell_type": "code",
   "execution_count": 14,
   "id": "fe33f64d",
   "metadata": {},
   "outputs": [
    {
     "name": "stdout",
     "output_type": "stream",
     "text": [
      "3\n"
     ]
    }
   ],
   "source": [
    "test2()"
   ]
  },
  {
   "cell_type": "code",
   "execution_count": 15,
   "id": "e1b8cc41",
   "metadata": {},
   "outputs": [],
   "source": [
    "def test3(a,b):\n",
    "    print(a+b)"
   ]
  },
  {
   "cell_type": "code",
   "execution_count": 16,
   "id": "5a2de55e",
   "metadata": {},
   "outputs": [
    {
     "name": "stdout",
     "output_type": "stream",
     "text": [
      "8\n"
     ]
    }
   ],
   "source": [
    "test3(3,5)"
   ]
  },
  {
   "cell_type": "code",
   "execution_count": 18,
   "id": "9be907df",
   "metadata": {},
   "outputs": [
    {
     "name": "stdout",
     "output_type": "stream",
     "text": [
      "saumya tripathi\n"
     ]
    }
   ],
   "source": [
    "test3('saumya ','tripathi')"
   ]
  },
  {
   "cell_type": "code",
   "execution_count": 20,
   "id": "eb228862",
   "metadata": {},
   "outputs": [
    {
     "name": "stdout",
     "output_type": "stream",
     "text": [
      "[1, 2, 3, 4, 4, 5, 6, 7]\n"
     ]
    }
   ],
   "source": [
    "test3([1,2,3,4],[4,5,6,7])"
   ]
  },
  {
   "cell_type": "code",
   "execution_count": 30,
   "id": "c985cb61",
   "metadata": {},
   "outputs": [],
   "source": [
    "def test4(a,b):\n",
    "    if type(a)!=str:\n",
    "        print(str(a)+b)\n",
    "    else:\n",
    "        print(a+b)"
   ]
  },
  {
   "cell_type": "code",
   "execution_count": 24,
   "id": "d61fff0f",
   "metadata": {},
   "outputs": [
    {
     "name": "stdout",
     "output_type": "stream",
     "text": [
      "4sudh\n"
     ]
    }
   ],
   "source": [
    "test4(4,'sudh')"
   ]
  },
  {
   "cell_type": "code",
   "execution_count": 25,
   "id": "ddcc2a47",
   "metadata": {},
   "outputs": [
    {
     "name": "stdout",
     "output_type": "stream",
     "text": [
      "4sudh\n"
     ]
    },
    {
     "ename": "TypeError",
     "evalue": "unsupported operand type(s) for +: 'NoneType' and 'str'",
     "output_type": "error",
     "traceback": [
      "\u001b[1;31m---------------------------------------------------------------------------\u001b[0m",
      "\u001b[1;31mTypeError\u001b[0m                                 Traceback (most recent call last)",
      "\u001b[1;32m<ipython-input-25-10536bc1b720>\u001b[0m in \u001b[0;36m<module>\u001b[1;34m\u001b[0m\n\u001b[1;32m----> 1\u001b[1;33m \u001b[0mtest4\u001b[0m\u001b[1;33m(\u001b[0m\u001b[1;36m4\u001b[0m\u001b[1;33m,\u001b[0m\u001b[1;34m'sudh'\u001b[0m\u001b[1;33m)\u001b[0m\u001b[1;33m+\u001b[0m\u001b[1;34m'kumar'\u001b[0m\u001b[1;33m\u001b[0m\u001b[1;33m\u001b[0m\u001b[0m\n\u001b[0m",
      "\u001b[1;31mTypeError\u001b[0m: unsupported operand type(s) for +: 'NoneType' and 'str'"
     ]
    }
   ],
   "source": [
    "test4(4,'sudh')+'kumar' #cannot add nonetype with string"
   ]
  },
  {
   "cell_type": "code",
   "execution_count": 27,
   "id": "bbba0e7f",
   "metadata": {},
   "outputs": [
    {
     "name": "stdout",
     "output_type": "stream",
     "text": [
      "4sudh\n"
     ]
    },
    {
     "data": {
      "text/plain": [
       "NoneType"
      ]
     },
     "execution_count": 27,
     "metadata": {},
     "output_type": "execute_result"
    }
   ],
   "source": [
    "type(test4(4,'sudh'))"
   ]
  },
  {
   "cell_type": "code",
   "execution_count": 31,
   "id": "a470224c",
   "metadata": {},
   "outputs": [
    {
     "name": "stdout",
     "output_type": "stream",
     "text": [
      "5\n"
     ]
    }
   ],
   "source": [
    "test3(2,3)"
   ]
  },
  {
   "cell_type": "code",
   "execution_count": 32,
   "id": "ce98c4f3",
   "metadata": {},
   "outputs": [
    {
     "name": "stdout",
     "output_type": "stream",
     "text": [
      "5\n"
     ]
    },
    {
     "data": {
      "text/plain": [
       "NoneType"
      ]
     },
     "execution_count": 32,
     "metadata": {},
     "output_type": "execute_result"
    }
   ],
   "source": [
    "type(test3(2,3))"
   ]
  },
  {
   "cell_type": "code",
   "execution_count": 34,
   "id": "aa5620bf",
   "metadata": {},
   "outputs": [],
   "source": [
    "def test5(a,b):\n",
    "    if type(a)!=str:\n",
    "        return(str(a)+b)\n",
    "    else:\n",
    "        return(a+b)"
   ]
  },
  {
   "cell_type": "code",
   "execution_count": 36,
   "id": "0b075e25",
   "metadata": {},
   "outputs": [
    {
     "data": {
      "text/plain": [
       "'3s'"
      ]
     },
     "execution_count": 36,
     "metadata": {},
     "output_type": "execute_result"
    }
   ],
   "source": [
    "test5(3,'s')"
   ]
  },
  {
   "cell_type": "code",
   "execution_count": 37,
   "id": "913bcd3e",
   "metadata": {},
   "outputs": [
    {
     "data": {
      "text/plain": [
       "str"
      ]
     },
     "execution_count": 37,
     "metadata": {},
     "output_type": "execute_result"
    }
   ],
   "source": [
    "type(test5(3,'s'))"
   ]
  },
  {
   "cell_type": "code",
   "execution_count": 38,
   "id": "67731ac5",
   "metadata": {},
   "outputs": [
    {
     "data": {
      "text/plain": [
       "'3st'"
      ]
     },
     "execution_count": 38,
     "metadata": {},
     "output_type": "execute_result"
    }
   ],
   "source": [
    "test5(3,'s') + 't'"
   ]
  },
  {
   "cell_type": "code",
   "execution_count": 39,
   "id": "87069582",
   "metadata": {},
   "outputs": [],
   "source": [
    "def test6(a,b,c):\n",
    "    return a+2,b+3,c+4,a+b+c"
   ]
  },
  {
   "cell_type": "code",
   "execution_count": 40,
   "id": "1d0fe858",
   "metadata": {},
   "outputs": [
    {
     "data": {
      "text/plain": [
       "(3, 4, 5, 3)"
      ]
     },
     "execution_count": 40,
     "metadata": {},
     "output_type": "execute_result"
    }
   ],
   "source": [
    "test6(1,1,1)"
   ]
  },
  {
   "cell_type": "code",
   "execution_count": 41,
   "id": "4d080c22",
   "metadata": {},
   "outputs": [
    {
     "ename": "TypeError",
     "evalue": "test6() missing 1 required positional argument: 'c'",
     "output_type": "error",
     "traceback": [
      "\u001b[1;31m---------------------------------------------------------------------------\u001b[0m",
      "\u001b[1;31mTypeError\u001b[0m                                 Traceback (most recent call last)",
      "\u001b[1;32m<ipython-input-41-f929ca163058>\u001b[0m in \u001b[0;36m<module>\u001b[1;34m\u001b[0m\n\u001b[1;32m----> 1\u001b[1;33m \u001b[0mtest6\u001b[0m\u001b[1;33m(\u001b[0m\u001b[1;36m1\u001b[0m\u001b[1;33m,\u001b[0m\u001b[1;36m3\u001b[0m\u001b[1;33m)\u001b[0m\u001b[1;33m\u001b[0m\u001b[1;33m\u001b[0m\u001b[0m\n\u001b[0m",
      "\u001b[1;31mTypeError\u001b[0m: test6() missing 1 required positional argument: 'c'"
     ]
    }
   ],
   "source": [
    "test6(1,3)"
   ]
  },
  {
   "cell_type": "code",
   "execution_count": 42,
   "id": "b11bf657",
   "metadata": {},
   "outputs": [
    {
     "data": {
      "text/plain": [
       "tuple"
      ]
     },
     "execution_count": 42,
     "metadata": {},
     "output_type": "execute_result"
    }
   ],
   "source": [
    "type(test6(1,1,1))"
   ]
  },
  {
   "cell_type": "code",
   "execution_count": 43,
   "id": "bd03baf2",
   "metadata": {},
   "outputs": [],
   "source": [
    "a=10\n",
    "b=4\n",
    "c='sudh'\n",
    "d=56.45"
   ]
  },
  {
   "cell_type": "code",
   "execution_count": 44,
   "id": "8b78fae5",
   "metadata": {},
   "outputs": [],
   "source": [
    "a,b,c,d=10,4,'sudh',56.45"
   ]
  },
  {
   "cell_type": "code",
   "execution_count": 45,
   "id": "b7128baf",
   "metadata": {},
   "outputs": [],
   "source": [
    "n=test6(1,2,3)"
   ]
  },
  {
   "cell_type": "code",
   "execution_count": 46,
   "id": "6f6f3945",
   "metadata": {},
   "outputs": [
    {
     "data": {
      "text/plain": [
       "(3, 5, 7, 6)"
      ]
     },
     "execution_count": 46,
     "metadata": {},
     "output_type": "execute_result"
    }
   ],
   "source": [
    "n"
   ]
  },
  {
   "cell_type": "code",
   "execution_count": 47,
   "id": "906e2d31",
   "metadata": {},
   "outputs": [],
   "source": [
    "x,y,z,w=test6(1,2,3)"
   ]
  },
  {
   "cell_type": "code",
   "execution_count": 49,
   "id": "a05a7e5e",
   "metadata": {},
   "outputs": [
    {
     "data": {
      "text/plain": [
       "3"
      ]
     },
     "execution_count": 49,
     "metadata": {},
     "output_type": "execute_result"
    }
   ],
   "source": [
    "x"
   ]
  },
  {
   "cell_type": "code",
   "execution_count": 50,
   "id": "49a94dc9",
   "metadata": {},
   "outputs": [
    {
     "data": {
      "text/plain": [
       "5"
      ]
     },
     "execution_count": 50,
     "metadata": {},
     "output_type": "execute_result"
    }
   ],
   "source": [
    "y"
   ]
  },
  {
   "cell_type": "code",
   "execution_count": 51,
   "id": "e6034c94",
   "metadata": {},
   "outputs": [
    {
     "data": {
      "text/plain": [
       "7"
      ]
     },
     "execution_count": 51,
     "metadata": {},
     "output_type": "execute_result"
    }
   ],
   "source": [
    "z"
   ]
  },
  {
   "cell_type": "code",
   "execution_count": 52,
   "id": "ad7059e6",
   "metadata": {},
   "outputs": [
    {
     "data": {
      "text/plain": [
       "6"
      ]
     },
     "execution_count": 52,
     "metadata": {},
     "output_type": "execute_result"
    }
   ],
   "source": [
    "w"
   ]
  },
  {
   "cell_type": "code",
   "execution_count": 53,
   "id": "55800660",
   "metadata": {},
   "outputs": [],
   "source": [
    "_,_,_,b=test6(3,4,5)"
   ]
  },
  {
   "cell_type": "code",
   "execution_count": 54,
   "id": "40bc5d23",
   "metadata": {},
   "outputs": [
    {
     "data": {
      "text/plain": [
       "12"
      ]
     },
     "execution_count": 54,
     "metadata": {},
     "output_type": "execute_result"
    }
   ],
   "source": [
    "b"
   ]
  },
  {
   "cell_type": "code",
   "execution_count": 55,
   "id": "ad632fad",
   "metadata": {},
   "outputs": [
    {
     "data": {
      "text/plain": [
       "9"
      ]
     },
     "execution_count": 55,
     "metadata": {},
     "output_type": "execute_result"
    }
   ],
   "source": [
    "_ #underscore will work in python"
   ]
  },
  {
   "cell_type": "code",
   "execution_count": 56,
   "id": "0be2964f",
   "metadata": {},
   "outputs": [
    {
     "data": {
      "text/plain": [
       "20736"
      ]
     },
     "execution_count": 56,
     "metadata": {},
     "output_type": "execute_result"
    }
   ],
   "source": [
    "b**4"
   ]
  },
  {
   "cell_type": "code",
   "execution_count": 57,
   "id": "ccace5b6",
   "metadata": {},
   "outputs": [],
   "source": [
    "def test7(x,y):\n",
    "    return x+y,x,x**4,x*y"
   ]
  },
  {
   "cell_type": "code",
   "execution_count": 58,
   "id": "b4892ff2",
   "metadata": {},
   "outputs": [
    {
     "data": {
      "text/plain": [
       "(7, 3, 81, 12)"
      ]
     },
     "execution_count": 58,
     "metadata": {},
     "output_type": "execute_result"
    }
   ],
   "source": [
    "test7(3,4)"
   ]
  },
  {
   "cell_type": "code",
   "execution_count": 62,
   "id": "3163357d",
   "metadata": {},
   "outputs": [
    {
     "data": {
      "text/plain": [
       "81"
      ]
     },
     "execution_count": 62,
     "metadata": {},
     "output_type": "execute_result"
    }
   ],
   "source": [
    "test7(3,4)[2]"
   ]
  },
  {
   "cell_type": "code",
   "execution_count": 61,
   "id": "1fe3d5ef",
   "metadata": {},
   "outputs": [
    {
     "data": {
      "text/plain": [
       "27.0"
      ]
     },
     "execution_count": 61,
     "metadata": {},
     "output_type": "execute_result"
    }
   ],
   "source": [
    "test7(3,4)[2]/3"
   ]
  },
  {
   "cell_type": "code",
   "execution_count": 63,
   "id": "759e5a4c",
   "metadata": {},
   "outputs": [],
   "source": [
    "_,_,t,_=test7(3,4)"
   ]
  },
  {
   "cell_type": "code",
   "execution_count": 64,
   "id": "f26fd932",
   "metadata": {},
   "outputs": [
    {
     "data": {
      "text/plain": [
       "81"
      ]
     },
     "execution_count": 64,
     "metadata": {},
     "output_type": "execute_result"
    }
   ],
   "source": [
    "t"
   ]
  },
  {
   "cell_type": "code",
   "execution_count": 66,
   "id": "dbefbdf0",
   "metadata": {},
   "outputs": [],
   "source": [
    "def test7(b,v,c):\n",
    "    d=b*v*c\n",
    "    f=b+v+c+d\n",
    "    return d,f"
   ]
  },
  {
   "cell_type": "code",
   "execution_count": 68,
   "id": "cf618c1d",
   "metadata": {},
   "outputs": [],
   "source": [
    "a,b=test7(4,5,6)"
   ]
  },
  {
   "cell_type": "code",
   "execution_count": 69,
   "id": "3b03a9c8",
   "metadata": {},
   "outputs": [
    {
     "data": {
      "text/plain": [
       "120"
      ]
     },
     "execution_count": 69,
     "metadata": {},
     "output_type": "execute_result"
    }
   ],
   "source": [
    "a"
   ]
  },
  {
   "cell_type": "code",
   "execution_count": 70,
   "id": "a35205ec",
   "metadata": {},
   "outputs": [
    {
     "data": {
      "text/plain": [
       "135"
      ]
     },
     "execution_count": 70,
     "metadata": {},
     "output_type": "execute_result"
    }
   ],
   "source": [
    "b"
   ]
  },
  {
   "cell_type": "code",
   "execution_count": 71,
   "id": "040fd4b6",
   "metadata": {},
   "outputs": [
    {
     "data": {
      "text/plain": [
       "(120, 135)"
      ]
     },
     "execution_count": 71,
     "metadata": {},
     "output_type": "execute_result"
    }
   ],
   "source": [
    "test7(4,5,6)"
   ]
  },
  {
   "cell_type": "code",
   "execution_count": 82,
   "id": "186a7a9f",
   "metadata": {},
   "outputs": [
    {
     "name": "stdout",
     "output_type": "stream",
     "text": [
      "4\n"
     ]
    }
   ],
   "source": [
    "l=['sudh',3,4,5,'kumar','a','b',56.45]\n",
    "a=0\n",
    "for i in l:\n",
    "    if type(i)==str:\n",
    "        a=a+1\n",
    "print(a)"
   ]
  },
  {
   "cell_type": "code",
   "execution_count": 88,
   "id": "33f9280b",
   "metadata": {},
   "outputs": [],
   "source": [
    "def test8(l): #function to count no of string in a list\n",
    "    \"\"\"this is my function where it will try to return number of string variable available inside a list\"\"\"\n",
    "    a=0\n",
    "    for i in l:\n",
    "        if type(i)==str:\n",
    "            a=a+1\n",
    "    return(a)"
   ]
  },
  {
   "cell_type": "code",
   "execution_count": 87,
   "id": "46d96cba",
   "metadata": {},
   "outputs": [
    {
     "data": {
      "text/plain": [
       "6"
      ]
     },
     "execution_count": 87,
     "metadata": {},
     "output_type": "execute_result"
    }
   ],
   "source": [
    "test8(['sudh',3,4,5,'kumar','a','b',56.45,'df','hh'])"
   ]
  },
  {
   "cell_type": "code",
   "execution_count": 96,
   "id": "8a5a9ace",
   "metadata": {},
   "outputs": [],
   "source": [
    "def test9(b=10,c=6):\n",
    "    return b,c"
   ]
  },
  {
   "cell_type": "code",
   "execution_count": 97,
   "id": "5689ee76",
   "metadata": {},
   "outputs": [
    {
     "data": {
      "text/plain": [
       "(4, 6)"
      ]
     },
     "execution_count": 97,
     "metadata": {},
     "output_type": "execute_result"
    }
   ],
   "source": [
    "test9(4)"
   ]
  },
  {
   "cell_type": "code",
   "execution_count": 98,
   "id": "76e57c55",
   "metadata": {},
   "outputs": [
    {
     "data": {
      "text/plain": [
       "('sudh', 6)"
      ]
     },
     "execution_count": 98,
     "metadata": {},
     "output_type": "execute_result"
    }
   ],
   "source": [
    "test9('sudh')"
   ]
  },
  {
   "cell_type": "code",
   "execution_count": 99,
   "id": "e804db2a",
   "metadata": {},
   "outputs": [
    {
     "data": {
      "text/plain": [
       "(10, 6)"
      ]
     },
     "execution_count": 99,
     "metadata": {},
     "output_type": "execute_result"
    }
   ],
   "source": [
    "test9()"
   ]
  },
  {
   "cell_type": "code",
   "execution_count": 100,
   "id": "5961d789",
   "metadata": {},
   "outputs": [],
   "source": [
    "_,v=test9(4)"
   ]
  },
  {
   "cell_type": "code",
   "execution_count": 101,
   "id": "a6d51127",
   "metadata": {},
   "outputs": [
    {
     "data": {
      "text/plain": [
       "6"
      ]
     },
     "execution_count": 101,
     "metadata": {},
     "output_type": "execute_result"
    }
   ],
   "source": [
    "v"
   ]
  },
  {
   "cell_type": "code",
   "execution_count": 102,
   "id": "4e96c9b3",
   "metadata": {},
   "outputs": [],
   "source": [
    "def test10(a,b,c,n,v):\n",
    "    return 'this is my function'"
   ]
  },
  {
   "cell_type": "code",
   "execution_count": 105,
   "id": "db741240",
   "metadata": {},
   "outputs": [
    {
     "data": {
      "text/plain": [
       "'this is my function'"
      ]
     },
     "execution_count": 105,
     "metadata": {},
     "output_type": "execute_result"
    }
   ],
   "source": [
    "test10(2,3,4,5,6)"
   ]
  },
  {
   "cell_type": "code",
   "execution_count": 106,
   "id": "43e4b25c",
   "metadata": {},
   "outputs": [],
   "source": [
    "def test11(*args):\n",
    "    return args"
   ]
  },
  {
   "cell_type": "code",
   "execution_count": 107,
   "id": "5a7af46a",
   "metadata": {},
   "outputs": [
    {
     "data": {
      "text/plain": [
       "(3, 4, 5, 6)"
      ]
     },
     "execution_count": 107,
     "metadata": {},
     "output_type": "execute_result"
    }
   ],
   "source": [
    "test11(3,4,5,6)"
   ]
  },
  {
   "cell_type": "code",
   "execution_count": 108,
   "id": "27af2beb",
   "metadata": {},
   "outputs": [
    {
     "data": {
      "text/plain": [
       "(3, 'sudh')"
      ]
     },
     "execution_count": 108,
     "metadata": {},
     "output_type": "execute_result"
    }
   ],
   "source": [
    "test11(3,'sudh')"
   ]
  },
  {
   "cell_type": "code",
   "execution_count": 109,
   "id": "80b2827c",
   "metadata": {},
   "outputs": [
    {
     "data": {
      "text/plain": [
       "(4, 5, 6, 7, 8, 9, 'sdfdf', 'dfsf')"
      ]
     },
     "execution_count": 109,
     "metadata": {},
     "output_type": "execute_result"
    }
   ],
   "source": [
    "test11(4,5,6,7,8,9,'sdfdf','dfsf')"
   ]
  },
  {
   "cell_type": "code",
   "execution_count": 110,
   "id": "dff61f42",
   "metadata": {},
   "outputs": [],
   "source": [
    "def test12(*args): #concatenate string values, so value in args will be tuple so we can use for loop for iteration\n",
    "    con=''\n",
    "    for i in args: #args is not a keyword you can use any name instead of args\n",
    "        if type(i)==str:\n",
    "            con=con+i\n",
    "    return con"
   ]
  },
  {
   "cell_type": "code",
   "execution_count": 113,
   "id": "85ac53d8",
   "metadata": {},
   "outputs": [
    {
     "data": {
      "text/plain": [
       "'sdfdfdfsfsaumya'"
      ]
     },
     "execution_count": 113,
     "metadata": {},
     "output_type": "execute_result"
    }
   ],
   "source": [
    "test12(4,5,6,7,8,9,'sdfdf','dfsf','saumya',[3,4,5,6,7])"
   ]
  },
  {
   "cell_type": "code",
   "execution_count": 114,
   "id": "180bcd80",
   "metadata": {},
   "outputs": [],
   "source": [
    "def test13(*args,a,b,c,d):\n",
    "    return args,a,b,c,d"
   ]
  },
  {
   "cell_type": "code",
   "execution_count": 118,
   "id": "ad0231a8",
   "metadata": {},
   "outputs": [
    {
     "ename": "TypeError",
     "evalue": "test13() missing 4 required keyword-only arguments: 'a', 'b', 'c', and 'd'",
     "output_type": "error",
     "traceback": [
      "\u001b[1;31m---------------------------------------------------------------------------\u001b[0m",
      "\u001b[1;31mTypeError\u001b[0m                                 Traceback (most recent call last)",
      "\u001b[1;32m<ipython-input-118-ab9685a404f1>\u001b[0m in \u001b[0;36m<module>\u001b[1;34m\u001b[0m\n\u001b[1;32m----> 1\u001b[1;33m \u001b[0mtest13\u001b[0m\u001b[1;33m(\u001b[0m\u001b[1;36m3\u001b[0m\u001b[1;33m,\u001b[0m\u001b[1;36m4\u001b[0m\u001b[1;33m,\u001b[0m\u001b[1;36m5\u001b[0m\u001b[1;33m,\u001b[0m\u001b[1;36m6\u001b[0m\u001b[1;33m,\u001b[0m\u001b[1;36m6\u001b[0m\u001b[1;33m,\u001b[0m\u001b[1;36m7\u001b[0m\u001b[1;33m)\u001b[0m\u001b[1;33m\u001b[0m\u001b[1;33m\u001b[0m\u001b[0m\n\u001b[0m",
      "\u001b[1;31mTypeError\u001b[0m: test13() missing 4 required keyword-only arguments: 'a', 'b', 'c', and 'd'"
     ]
    }
   ],
   "source": [
    "test13(3,4,5,6,6,7)"
   ]
  },
  {
   "cell_type": "code",
   "execution_count": 119,
   "id": "bc032f0f",
   "metadata": {},
   "outputs": [
    {
     "data": {
      "text/plain": [
       "((3, 4, 5, 6, 6, 7), 56, 45, 23, 12)"
      ]
     },
     "execution_count": 119,
     "metadata": {},
     "output_type": "execute_result"
    }
   ],
   "source": [
    "test13(3,4,5,6,6,7,a=56,b=45,c=23,d=12)"
   ]
  },
  {
   "cell_type": "code",
   "execution_count": 123,
   "id": "cce3d99c",
   "metadata": {},
   "outputs": [],
   "source": [
    "l=test13(3,4,5,6,6,7,a=56,b=45,c=23,d=12)"
   ]
  },
  {
   "cell_type": "code",
   "execution_count": 124,
   "id": "53057919",
   "metadata": {},
   "outputs": [
    {
     "data": {
      "text/plain": [
       "[(3, 4, 5, 6, 6, 7), 56, 45, 23, 12]"
      ]
     },
     "execution_count": 124,
     "metadata": {},
     "output_type": "execute_result"
    }
   ],
   "source": [
    "list(l)"
   ]
  },
  {
   "cell_type": "code",
   "execution_count": 133,
   "id": "a9e9dbd2",
   "metadata": {},
   "outputs": [],
   "source": [
    "def test14(**kwargs):\n",
    "    return kwargs"
   ]
  },
  {
   "cell_type": "code",
   "execution_count": 129,
   "id": "d9272d5c",
   "metadata": {},
   "outputs": [
    {
     "ename": "TypeError",
     "evalue": "test14() takes 0 positional arguments but 3 were given",
     "output_type": "error",
     "traceback": [
      "\u001b[1;31m---------------------------------------------------------------------------\u001b[0m",
      "\u001b[1;31mTypeError\u001b[0m                                 Traceback (most recent call last)",
      "\u001b[1;32m<ipython-input-129-53d570143d31>\u001b[0m in \u001b[0;36m<module>\u001b[1;34m\u001b[0m\n\u001b[1;32m----> 1\u001b[1;33m \u001b[0mtest14\u001b[0m\u001b[1;33m(\u001b[0m\u001b[1;36m34\u001b[0m\u001b[1;33m,\u001b[0m\u001b[1;36m56\u001b[0m\u001b[1;33m,\u001b[0m\u001b[1;36m67\u001b[0m\u001b[1;33m)\u001b[0m\u001b[1;33m\u001b[0m\u001b[1;33m\u001b[0m\u001b[0m\n\u001b[0m",
      "\u001b[1;31mTypeError\u001b[0m: test14() takes 0 positional arguments but 3 were given"
     ]
    }
   ],
   "source": [
    "test14(34,56,67)"
   ]
  },
  {
   "cell_type": "code",
   "execution_count": 134,
   "id": "4f4af36e",
   "metadata": {},
   "outputs": [
    {
     "data": {
      "text/plain": [
       "{'a': 34, 'b': 56, 'c': 67, 'd': [1, 2, 3, 4]}"
      ]
     },
     "execution_count": 134,
     "metadata": {},
     "output_type": "execute_result"
    }
   ],
   "source": [
    "test14(a=34,b=56,c=67,d=[1,2,3,4])"
   ]
  },
  {
   "cell_type": "code",
   "execution_count": 139,
   "id": "a7db9b19",
   "metadata": {},
   "outputs": [],
   "source": [
    "def test14(**sudh):\n",
    "    for i in sudh.values():\n",
    "        a=0\n",
    "        if type(i)==list:\n",
    "            for j in i:s\n",
    "                a=a+1\n",
    "            return a\n",
    "    return sudh"
   ]
  },
  {
   "cell_type": "code",
   "execution_count": 142,
   "id": "0d4e6cc3",
   "metadata": {},
   "outputs": [
    {
     "data": {
      "text/plain": [
       "7"
      ]
     },
     "execution_count": 142,
     "metadata": {},
     "output_type": "execute_result"
    }
   ],
   "source": [
    "test14(a=34,b=56,c=67,d=[1,2,3,4,7,8,'str'])"
   ]
  },
  {
   "cell_type": "code",
   "execution_count": 2,
   "id": "477b2c75",
   "metadata": {},
   "outputs": [
    {
     "data": {
      "text/plain": [
       "[2, 4, 6, 8, 10]"
      ]
     },
     "execution_count": 2,
     "metadata": {},
     "output_type": "execute_result"
    }
   ],
   "source": [
    "list(filter(lambda x:x%2==0,range(1,11)))"
   ]
  },
  {
   "cell_type": "code",
   "execution_count": null,
   "id": "182aaf74",
   "metadata": {},
   "outputs": [],
   "source": []
  }
 ],
 "metadata": {
  "kernelspec": {
   "display_name": "Python 3",
   "language": "python",
   "name": "python3"
  },
  "language_info": {
   "codemirror_mode": {
    "name": "ipython",
    "version": 3
   },
   "file_extension": ".py",
   "mimetype": "text/x-python",
   "name": "python",
   "nbconvert_exporter": "python",
   "pygments_lexer": "ipython3",
   "version": "3.8.8"
  }
 },
 "nbformat": 4,
 "nbformat_minor": 5
}
