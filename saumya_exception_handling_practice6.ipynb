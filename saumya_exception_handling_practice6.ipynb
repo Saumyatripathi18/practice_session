{
 "cells": [
  {
   "cell_type": "code",
   "execution_count": 5,
   "id": "87331ee2",
   "metadata": {},
   "outputs": [
    {
     "name": "stdout",
     "output_type": "stream",
     "text": [
      "enter an integer s\n",
      "enter an integer fdgh\n",
      "enter an integer sdfg\n",
      "enter an integer 3\n",
      "enter number greater than or equal to 4\n",
      "enter an integer 67\n",
      "enter an integer 5\n",
      "enter an integer 4\n",
      "enter an integer 8\n",
      "enter an integer 9\n",
      "enter an integer s\n",
      "enter an integer w\n",
      "enter an integer r\n",
      "enter an integer 2\n",
      "enter number greater than or equal to 4\n",
      "enter an integer 9\n",
      "enter an integer 34\n",
      "enter an integer 8\n",
      "enter an integer d\n",
      "enter an integer 89\n",
      "enter an integer 90\n",
      "[67, 5, 4, 8, 9, 9, 34, 8, 89, 90]\n"
     ]
    }
   ],
   "source": [
    "#function to input an integer and if it is less than 4 it will raise custom excpetion and if it string , it should ask again for input\n",
    "def listinput():\n",
    "    l=[]\n",
    "    for i in range(10):\n",
    "        while True:\n",
    "            try:\n",
    "                a=int(input('enter an integer '))\n",
    "            except:\n",
    "                continue\n",
    "            else:\n",
    "                try:\n",
    "                    if a<4:\n",
    "                        raise Exception(a)\n",
    "                    else:\n",
    "                        l.append(a)\n",
    "                        break\n",
    "                except:\n",
    "                    print('enter number greater than or equal to 4')\n",
    "    print(l)\n",
    "    \n",
    "listinput()\n",
    "                    "
   ]
  },
  {
   "cell_type": "code",
   "execution_count": null,
   "id": "69d24620",
   "metadata": {},
   "outputs": [],
   "source": []
  }
 ],
 "metadata": {
  "kernelspec": {
   "display_name": "Python 3",
   "language": "python",
   "name": "python3"
  },
  "language_info": {
   "codemirror_mode": {
    "name": "ipython",
    "version": 3
   },
   "file_extension": ".py",
   "mimetype": "text/x-python",
   "name": "python",
   "nbconvert_exporter": "python",
   "pygments_lexer": "ipython3",
   "version": "3.8.8"
  }
 },
 "nbformat": 4,
 "nbformat_minor": 5
}
